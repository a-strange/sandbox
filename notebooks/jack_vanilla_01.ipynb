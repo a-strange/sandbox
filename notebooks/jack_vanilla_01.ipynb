{
 "cells": [
  {
   "cell_type": "markdown",
   "metadata": {
    "heading_collapsed": true
   },
   "source": [
    "## Imports"
   ]
  },
  {
   "cell_type": "code",
   "execution_count": 1,
   "metadata": {
    "hidden": true
   },
   "outputs": [],
   "source": [
    "import os\n",
    "\n",
    "import matplotlib\n",
    "import matplotlib.pyplot as plt\n",
    "import numpy as np\n",
    "import pandas as pd\n",
    "import statsmodels.api as sm\n",
    "from statsmodels.tools.eval_measures import mse\n",
    "\n",
    "from model_toolbox import gbm\n",
    "\n",
    "%matplotlib inline"
   ]
  },
  {
   "cell_type": "code",
   "execution_count": 2,
   "metadata": {
    "hidden": true
   },
   "outputs": [],
   "source": [
    "DATA_LOC = '../../data'"
   ]
  },
  {
   "cell_type": "markdown",
   "metadata": {
    "heading_collapsed": true
   },
   "source": [
    "## Load data "
   ]
  },
  {
   "cell_type": "code",
   "execution_count": null,
   "metadata": {
    "hidden": true
   },
   "outputs": [],
   "source": [
    "!gsutil cp gs://cytora-user-jack/bedrock/train_claims.pkl $DATA_LOC\n",
    "!gsutil cp gs://cytora-user-jack/bedrock/train_policies.pkl $DATA_LOC\n",
    "!gsutil cp gs://cytora-user-jack/bedrock/test_policies.pkl $DATA_LOC"
   ]
  },
  {
   "cell_type": "code",
   "execution_count": 3,
   "metadata": {
    "hidden": true
   },
   "outputs": [],
   "source": [
    "claims_train = pd.read_pickle(os.path.join(DATA_LOC, 'train_claims.pkl'))\n",
    "policies_train = pd.read_pickle(os.path.join(DATA_LOC, 'train_policies.pkl'))\n",
    "policies_test = pd.read_pickle(os.path.join(DATA_LOC, 'test_policies.pkl'))"
   ]
  },
  {
   "cell_type": "markdown",
   "metadata": {
    "heading_collapsed": true
   },
   "source": [
    "## Explore data"
   ]
  },
  {
   "cell_type": "code",
   "execution_count": 4,
   "metadata": {
    "hidden": true
   },
   "outputs": [
    {
     "data": {
      "text/html": [
       "<div>\n",
       "<style scoped>\n",
       "    .dataframe tbody tr th:only-of-type {\n",
       "        vertical-align: middle;\n",
       "    }\n",
       "\n",
       "    .dataframe tbody tr th {\n",
       "        vertical-align: top;\n",
       "    }\n",
       "\n",
       "    .dataframe thead th {\n",
       "        text-align: right;\n",
       "    }\n",
       "</style>\n",
       "<table border=\"1\" class=\"dataframe\">\n",
       "  <thead>\n",
       "    <tr style=\"text-align: right;\">\n",
       "      <th></th>\n",
       "      <th>pol_id</th>\n",
       "      <th>insured</th>\n",
       "      <th>trade</th>\n",
       "      <th>year_built</th>\n",
       "      <th>height</th>\n",
       "      <th>sprinklers</th>\n",
       "      <th>sum_insured</th>\n",
       "    </tr>\n",
       "  </thead>\n",
       "  <tbody>\n",
       "    <tr>\n",
       "      <th>0</th>\n",
       "      <td>1</td>\n",
       "      <td>Company_1</td>\n",
       "      <td>Office</td>\n",
       "      <td>year:1994</td>\n",
       "      <td>4</td>\n",
       "      <td>No</td>\n",
       "      <td>440000.0</td>\n",
       "    </tr>\n",
       "    <tr>\n",
       "      <th>1</th>\n",
       "      <td>2</td>\n",
       "      <td>Company_2</td>\n",
       "      <td>Retail</td>\n",
       "      <td>year:1994</td>\n",
       "      <td>2</td>\n",
       "      <td>Yes</td>\n",
       "      <td>440000.0</td>\n",
       "    </tr>\n",
       "    <tr>\n",
       "      <th>2</th>\n",
       "      <td>3</td>\n",
       "      <td>Company_3</td>\n",
       "      <td>Office</td>\n",
       "      <td>year:1996</td>\n",
       "      <td>1</td>\n",
       "      <td>No</td>\n",
       "      <td>760000.0</td>\n",
       "    </tr>\n",
       "    <tr>\n",
       "      <th>3</th>\n",
       "      <td>4</td>\n",
       "      <td>Company_4</td>\n",
       "      <td>Office</td>\n",
       "      <td>year:1990</td>\n",
       "      <td>2</td>\n",
       "      <td>Yes</td>\n",
       "      <td>760000.0</td>\n",
       "    </tr>\n",
       "    <tr>\n",
       "      <th>4</th>\n",
       "      <td>5</td>\n",
       "      <td>Company_5</td>\n",
       "      <td>Retail</td>\n",
       "      <td>year:1991</td>\n",
       "      <td>3</td>\n",
       "      <td>Yes</td>\n",
       "      <td>360000.0</td>\n",
       "    </tr>\n",
       "  </tbody>\n",
       "</table>\n",
       "</div>"
      ],
      "text/plain": [
       "   pol_id    insured   trade year_built  height sprinklers  sum_insured\n",
       "0       1  Company_1  Office  year:1994       4         No     440000.0\n",
       "1       2  Company_2  Retail  year:1994       2        Yes     440000.0\n",
       "2       3  Company_3  Office  year:1996       1         No     760000.0\n",
       "3       4  Company_4  Office  year:1990       2        Yes     760000.0\n",
       "4       5  Company_5  Retail  year:1991       3        Yes     360000.0"
      ]
     },
     "execution_count": 4,
     "metadata": {},
     "output_type": "execute_result"
    }
   ],
   "source": [
    "policies_train.head()"
   ]
  },
  {
   "cell_type": "code",
   "execution_count": 5,
   "metadata": {
    "hidden": true
   },
   "outputs": [
    {
     "data": {
      "text/html": [
       "<div>\n",
       "<style scoped>\n",
       "    .dataframe tbody tr th:only-of-type {\n",
       "        vertical-align: middle;\n",
       "    }\n",
       "\n",
       "    .dataframe tbody tr th {\n",
       "        vertical-align: top;\n",
       "    }\n",
       "\n",
       "    .dataframe thead th {\n",
       "        text-align: right;\n",
       "    }\n",
       "</style>\n",
       "<table border=\"1\" class=\"dataframe\">\n",
       "  <thead>\n",
       "    <tr style=\"text-align: right;\">\n",
       "      <th></th>\n",
       "      <th>pol_id</th>\n",
       "      <th>insured</th>\n",
       "      <th>trade</th>\n",
       "      <th>year_built</th>\n",
       "      <th>height</th>\n",
       "      <th>sprinklers</th>\n",
       "      <th>sum_insured</th>\n",
       "    </tr>\n",
       "  </thead>\n",
       "  <tbody>\n",
       "    <tr>\n",
       "      <th>0</th>\n",
       "      <td>1</td>\n",
       "      <td>Company_1</td>\n",
       "      <td>Office</td>\n",
       "      <td>year:1991</td>\n",
       "      <td>4</td>\n",
       "      <td>No</td>\n",
       "      <td>10000000.0</td>\n",
       "    </tr>\n",
       "    <tr>\n",
       "      <th>1</th>\n",
       "      <td>2</td>\n",
       "      <td>Company_2</td>\n",
       "      <td>Factory</td>\n",
       "      <td>year:1993</td>\n",
       "      <td>5</td>\n",
       "      <td>No</td>\n",
       "      <td>10000000.0</td>\n",
       "    </tr>\n",
       "    <tr>\n",
       "      <th>2</th>\n",
       "      <td>3</td>\n",
       "      <td>Company_3</td>\n",
       "      <td>Office</td>\n",
       "      <td>year:1995</td>\n",
       "      <td>2</td>\n",
       "      <td>Yes</td>\n",
       "      <td>1180000.0</td>\n",
       "    </tr>\n",
       "    <tr>\n",
       "      <th>3</th>\n",
       "      <td>4</td>\n",
       "      <td>Company_4</td>\n",
       "      <td>Restaurant</td>\n",
       "      <td>year:1995</td>\n",
       "      <td>2</td>\n",
       "      <td>Yes</td>\n",
       "      <td>5100000.0</td>\n",
       "    </tr>\n",
       "    <tr>\n",
       "      <th>4</th>\n",
       "      <td>5</td>\n",
       "      <td>Company_5</td>\n",
       "      <td>Office</td>\n",
       "      <td>year:1992</td>\n",
       "      <td>2</td>\n",
       "      <td>Yes</td>\n",
       "      <td>8040000.0</td>\n",
       "    </tr>\n",
       "  </tbody>\n",
       "</table>\n",
       "</div>"
      ],
      "text/plain": [
       "   pol_id    insured       trade year_built  height sprinklers  sum_insured\n",
       "0       1  Company_1      Office  year:1991       4         No   10000000.0\n",
       "1       2  Company_2     Factory  year:1993       5         No   10000000.0\n",
       "2       3  Company_3      Office  year:1995       2        Yes    1180000.0\n",
       "3       4  Company_4  Restaurant  year:1995       2        Yes    5100000.0\n",
       "4       5  Company_5      Office  year:1992       2        Yes    8040000.0"
      ]
     },
     "execution_count": 5,
     "metadata": {},
     "output_type": "execute_result"
    }
   ],
   "source": [
    "policies_test.head()"
   ]
  },
  {
   "cell_type": "code",
   "execution_count": 6,
   "metadata": {
    "hidden": true
   },
   "outputs": [
    {
     "data": {
      "text/html": [
       "<div>\n",
       "<style scoped>\n",
       "    .dataframe tbody tr th:only-of-type {\n",
       "        vertical-align: middle;\n",
       "    }\n",
       "\n",
       "    .dataframe tbody tr th {\n",
       "        vertical-align: top;\n",
       "    }\n",
       "\n",
       "    .dataframe thead th {\n",
       "        text-align: right;\n",
       "    }\n",
       "</style>\n",
       "<table border=\"1\" class=\"dataframe\">\n",
       "  <thead>\n",
       "    <tr style=\"text-align: right;\">\n",
       "      <th></th>\n",
       "      <th>pol_id</th>\n",
       "      <th>claim_id</th>\n",
       "      <th>claim_amount</th>\n",
       "    </tr>\n",
       "  </thead>\n",
       "  <tbody>\n",
       "    <tr>\n",
       "      <th>0</th>\n",
       "      <td>9</td>\n",
       "      <td>1</td>\n",
       "      <td>72862.149801</td>\n",
       "    </tr>\n",
       "    <tr>\n",
       "      <th>1</th>\n",
       "      <td>16</td>\n",
       "      <td>2</td>\n",
       "      <td>280000.000000</td>\n",
       "    </tr>\n",
       "    <tr>\n",
       "      <th>2</th>\n",
       "      <td>16</td>\n",
       "      <td>3</td>\n",
       "      <td>88734.203456</td>\n",
       "    </tr>\n",
       "    <tr>\n",
       "      <th>3</th>\n",
       "      <td>20</td>\n",
       "      <td>4</td>\n",
       "      <td>920000.000000</td>\n",
       "    </tr>\n",
       "    <tr>\n",
       "      <th>4</th>\n",
       "      <td>23</td>\n",
       "      <td>5</td>\n",
       "      <td>300097.278576</td>\n",
       "    </tr>\n",
       "  </tbody>\n",
       "</table>\n",
       "</div>"
      ],
      "text/plain": [
       "   pol_id  claim_id   claim_amount\n",
       "0       9         1   72862.149801\n",
       "1      16         2  280000.000000\n",
       "2      16         3   88734.203456\n",
       "3      20         4  920000.000000\n",
       "4      23         5  300097.278576"
      ]
     },
     "execution_count": 6,
     "metadata": {},
     "output_type": "execute_result"
    }
   ],
   "source": [
    "claims_train.head()"
   ]
  },
  {
   "cell_type": "code",
   "execution_count": 7,
   "metadata": {
    "hidden": true
   },
   "outputs": [
    {
     "data": {
      "text/plain": [
       "1    219909\n",
       "2     51269\n",
       "3      9077\n",
       "4      1373\n",
       "5       159\n",
       "6        14\n",
       "Name: pol_id, dtype: int64"
      ]
     },
     "execution_count": 7,
     "metadata": {},
     "output_type": "execute_result"
    }
   ],
   "source": [
    "claims_train['pol_id'].value_counts().value_counts()"
   ]
  },
  {
   "cell_type": "code",
   "execution_count": 8,
   "metadata": {
    "hidden": true
   },
   "outputs": [
    {
     "data": {
      "text/plain": [
       "Yes    500056\n",
       "No     499944\n",
       "Name: sprinklers, dtype: int64"
      ]
     },
     "execution_count": 8,
     "metadata": {},
     "output_type": "execute_result"
    }
   ],
   "source": [
    "policies_train['sprinklers'].value_counts()"
   ]
  },
  {
   "cell_type": "code",
   "execution_count": 9,
   "metadata": {
    "hidden": true
   },
   "outputs": [],
   "source": [
    "policies_train['sprinklers'] = ((policies_train['sprinklers'] == 'Yes')*1)\n",
    "policies_test['sprinklers'] = ((policies_test['sprinklers'] == 'Yes')*1)\n",
    "\n",
    "policies_train['year_ord'] = pd.to_numeric(policies_train['year_built'].str[-4:]) - 1990\n",
    "policies_test['year_ord'] = pd.to_numeric(policies_test['year_built'].str[-4:]) - 1990"
   ]
  },
  {
   "cell_type": "code",
   "execution_count": 40,
   "metadata": {
    "hidden": true
   },
   "outputs": [
    {
     "data": {
      "text/plain": [
       "600000.0     100212\n",
       "280000.0     100132\n",
       "440000.0     100124\n",
       "920000.0     100096\n",
       "760000.0     100002\n",
       "840000.0      99913\n",
       "680000.0      99907\n",
       "520000.0      99706\n",
       "360000.0      99659\n",
       "200000.0      50186\n",
       "1000000.0     50063\n",
       "Name: sum_insured, dtype: int64"
      ]
     },
     "execution_count": 40,
     "metadata": {},
     "output_type": "execute_result"
    }
   ],
   "source": [
    "policies_train['sum_insured'].value_counts()"
   ]
  },
  {
   "cell_type": "code",
   "execution_count": 41,
   "metadata": {
    "hidden": true
   },
   "outputs": [
    {
     "data": {
      "text/plain": [
       "2160000.0     100295\n",
       "9020000.0     100255\n",
       "7060000.0     100197\n",
       "1180000.0     100035\n",
       "3140000.0     100023\n",
       "5100000.0      99869\n",
       "8040000.0      99848\n",
       "4120000.0      99669\n",
       "6080000.0      99620\n",
       "10000000.0     50420\n",
       "200000.0       49769\n",
       "Name: sum_insured, dtype: int64"
      ]
     },
     "execution_count": 41,
     "metadata": {},
     "output_type": "execute_result"
    }
   ],
   "source": [
    "policies_test['sum_insured'].value_counts()"
   ]
  },
  {
   "cell_type": "code",
   "execution_count": 10,
   "metadata": {
    "hidden": true
   },
   "outputs": [
    {
     "data": {
      "text/plain": [
       "Retail        250522\n",
       "Restaurant    250462\n",
       "Office        249873\n",
       "Factory       249143\n",
       "Name: trade, dtype: int64"
      ]
     },
     "execution_count": 10,
     "metadata": {},
     "output_type": "execute_result"
    }
   ],
   "source": [
    "policies_train['trade'].value_counts()"
   ]
  },
  {
   "cell_type": "code",
   "execution_count": 11,
   "metadata": {
    "hidden": true
   },
   "outputs": [
    {
     "data": {
      "text/plain": [
       "4    200907\n",
       "2    200167\n",
       "3    199822\n",
       "5    199617\n",
       "1    199487\n",
       "Name: height, dtype: int64"
      ]
     },
     "execution_count": 11,
     "metadata": {},
     "output_type": "execute_result"
    }
   ],
   "source": [
    "policies_train['height'].value_counts()"
   ]
  },
  {
   "cell_type": "code",
   "execution_count": 12,
   "metadata": {
    "hidden": true
   },
   "outputs": [
    {
     "data": {
      "text/plain": [
       "year:1991    91402\n",
       "year:2000    91259\n",
       "year:1998    91157\n",
       "year:1993    91111\n",
       "year:1994    90889\n",
       "year:1990    90792\n",
       "year:1999    90760\n",
       "year:1995    90723\n",
       "year:1992    90696\n",
       "year:1996    90658\n",
       "year:1997    90553\n",
       "Name: year_built, dtype: int64"
      ]
     },
     "execution_count": 12,
     "metadata": {},
     "output_type": "execute_result"
    }
   ],
   "source": [
    "policies_train['year_built'].value_counts()"
   ]
  },
  {
   "cell_type": "code",
   "execution_count": 13,
   "metadata": {
    "hidden": true
   },
   "outputs": [],
   "source": [
    "combined = policies_train.merge(claims_train, on='pol_id', how='left')"
   ]
  },
  {
   "cell_type": "code",
   "execution_count": 14,
   "metadata": {
    "hidden": true
   },
   "outputs": [
    {
     "data": {
      "text/html": [
       "<div>\n",
       "<style scoped>\n",
       "    .dataframe tbody tr th:only-of-type {\n",
       "        vertical-align: middle;\n",
       "    }\n",
       "\n",
       "    .dataframe tbody tr th {\n",
       "        vertical-align: top;\n",
       "    }\n",
       "\n",
       "    .dataframe thead th {\n",
       "        text-align: right;\n",
       "    }\n",
       "</style>\n",
       "<table border=\"1\" class=\"dataframe\">\n",
       "  <thead>\n",
       "    <tr style=\"text-align: right;\">\n",
       "      <th></th>\n",
       "      <th>pol_id</th>\n",
       "      <th>insured</th>\n",
       "      <th>trade</th>\n",
       "      <th>year_built</th>\n",
       "      <th>height</th>\n",
       "      <th>sprinklers</th>\n",
       "      <th>sum_insured</th>\n",
       "      <th>year_ord</th>\n",
       "      <th>claim_id</th>\n",
       "      <th>claim_amount</th>\n",
       "    </tr>\n",
       "  </thead>\n",
       "  <tbody>\n",
       "    <tr>\n",
       "      <th>0</th>\n",
       "      <td>1</td>\n",
       "      <td>Company_1</td>\n",
       "      <td>Office</td>\n",
       "      <td>year:1994</td>\n",
       "      <td>4</td>\n",
       "      <td>0</td>\n",
       "      <td>440000.0</td>\n",
       "      <td>4</td>\n",
       "      <td>NaN</td>\n",
       "      <td>NaN</td>\n",
       "    </tr>\n",
       "    <tr>\n",
       "      <th>1</th>\n",
       "      <td>2</td>\n",
       "      <td>Company_2</td>\n",
       "      <td>Retail</td>\n",
       "      <td>year:1994</td>\n",
       "      <td>2</td>\n",
       "      <td>1</td>\n",
       "      <td>440000.0</td>\n",
       "      <td>4</td>\n",
       "      <td>NaN</td>\n",
       "      <td>NaN</td>\n",
       "    </tr>\n",
       "    <tr>\n",
       "      <th>2</th>\n",
       "      <td>3</td>\n",
       "      <td>Company_3</td>\n",
       "      <td>Office</td>\n",
       "      <td>year:1996</td>\n",
       "      <td>1</td>\n",
       "      <td>0</td>\n",
       "      <td>760000.0</td>\n",
       "      <td>6</td>\n",
       "      <td>NaN</td>\n",
       "      <td>NaN</td>\n",
       "    </tr>\n",
       "    <tr>\n",
       "      <th>3</th>\n",
       "      <td>4</td>\n",
       "      <td>Company_4</td>\n",
       "      <td>Office</td>\n",
       "      <td>year:1990</td>\n",
       "      <td>2</td>\n",
       "      <td>1</td>\n",
       "      <td>760000.0</td>\n",
       "      <td>0</td>\n",
       "      <td>NaN</td>\n",
       "      <td>NaN</td>\n",
       "    </tr>\n",
       "    <tr>\n",
       "      <th>4</th>\n",
       "      <td>5</td>\n",
       "      <td>Company_5</td>\n",
       "      <td>Retail</td>\n",
       "      <td>year:1991</td>\n",
       "      <td>3</td>\n",
       "      <td>1</td>\n",
       "      <td>360000.0</td>\n",
       "      <td>1</td>\n",
       "      <td>NaN</td>\n",
       "      <td>NaN</td>\n",
       "    </tr>\n",
       "    <tr>\n",
       "      <th>5</th>\n",
       "      <td>6</td>\n",
       "      <td>Company_6</td>\n",
       "      <td>Factory</td>\n",
       "      <td>year:1992</td>\n",
       "      <td>2</td>\n",
       "      <td>0</td>\n",
       "      <td>760000.0</td>\n",
       "      <td>2</td>\n",
       "      <td>NaN</td>\n",
       "      <td>NaN</td>\n",
       "    </tr>\n",
       "    <tr>\n",
       "      <th>6</th>\n",
       "      <td>7</td>\n",
       "      <td>Company_7</td>\n",
       "      <td>Retail</td>\n",
       "      <td>year:1991</td>\n",
       "      <td>1</td>\n",
       "      <td>0</td>\n",
       "      <td>200000.0</td>\n",
       "      <td>1</td>\n",
       "      <td>NaN</td>\n",
       "      <td>NaN</td>\n",
       "    </tr>\n",
       "    <tr>\n",
       "      <th>7</th>\n",
       "      <td>8</td>\n",
       "      <td>Company_8</td>\n",
       "      <td>Office</td>\n",
       "      <td>year:1993</td>\n",
       "      <td>5</td>\n",
       "      <td>1</td>\n",
       "      <td>520000.0</td>\n",
       "      <td>3</td>\n",
       "      <td>NaN</td>\n",
       "      <td>NaN</td>\n",
       "    </tr>\n",
       "    <tr>\n",
       "      <th>8</th>\n",
       "      <td>9</td>\n",
       "      <td>Company_9</td>\n",
       "      <td>Factory</td>\n",
       "      <td>year:2000</td>\n",
       "      <td>2</td>\n",
       "      <td>1</td>\n",
       "      <td>760000.0</td>\n",
       "      <td>10</td>\n",
       "      <td>1.0</td>\n",
       "      <td>72862.149801</td>\n",
       "    </tr>\n",
       "    <tr>\n",
       "      <th>9</th>\n",
       "      <td>10</td>\n",
       "      <td>Company_10</td>\n",
       "      <td>Retail</td>\n",
       "      <td>year:1991</td>\n",
       "      <td>3</td>\n",
       "      <td>1</td>\n",
       "      <td>920000.0</td>\n",
       "      <td>1</td>\n",
       "      <td>NaN</td>\n",
       "      <td>NaN</td>\n",
       "    </tr>\n",
       "  </tbody>\n",
       "</table>\n",
       "</div>"
      ],
      "text/plain": [
       "   pol_id     insured    trade year_built  height  sprinklers  sum_insured  \\\n",
       "0       1   Company_1   Office  year:1994       4           0     440000.0   \n",
       "1       2   Company_2   Retail  year:1994       2           1     440000.0   \n",
       "2       3   Company_3   Office  year:1996       1           0     760000.0   \n",
       "3       4   Company_4   Office  year:1990       2           1     760000.0   \n",
       "4       5   Company_5   Retail  year:1991       3           1     360000.0   \n",
       "5       6   Company_6  Factory  year:1992       2           0     760000.0   \n",
       "6       7   Company_7   Retail  year:1991       1           0     200000.0   \n",
       "7       8   Company_8   Office  year:1993       5           1     520000.0   \n",
       "8       9   Company_9  Factory  year:2000       2           1     760000.0   \n",
       "9      10  Company_10   Retail  year:1991       3           1     920000.0   \n",
       "\n",
       "   year_ord  claim_id  claim_amount  \n",
       "0         4       NaN           NaN  \n",
       "1         4       NaN           NaN  \n",
       "2         6       NaN           NaN  \n",
       "3         0       NaN           NaN  \n",
       "4         1       NaN           NaN  \n",
       "5         2       NaN           NaN  \n",
       "6         1       NaN           NaN  \n",
       "7         3       NaN           NaN  \n",
       "8        10       1.0  72862.149801  \n",
       "9         1       NaN           NaN  "
      ]
     },
     "execution_count": 14,
     "metadata": {},
     "output_type": "execute_result"
    }
   ],
   "source": [
    "combined.head(10)"
   ]
  },
  {
   "cell_type": "code",
   "execution_count": 15,
   "metadata": {
    "hidden": true
   },
   "outputs": [],
   "source": [
    "combined['severity'] = combined['claim_amount'] / combined['sum_insured']"
   ]
  },
  {
   "cell_type": "code",
   "execution_count": 16,
   "metadata": {
    "hidden": true
   },
   "outputs": [
    {
     "data": {
      "text/plain": [
       "count    356049.000000\n",
       "mean          0.403283\n",
       "std           0.362403\n",
       "min           0.000166\n",
       "25%           0.090024\n",
       "50%           0.259732\n",
       "75%           0.721448\n",
       "max           1.000000\n",
       "Name: severity, dtype: float64"
      ]
     },
     "execution_count": 16,
     "metadata": {},
     "output_type": "execute_result"
    }
   ],
   "source": [
    "combined['severity'].describe()"
   ]
  },
  {
   "cell_type": "code",
   "execution_count": 17,
   "metadata": {
    "hidden": true
   },
   "outputs": [
    {
     "data": {
      "text/plain": [
       "<matplotlib.axes._subplots.AxesSubplot at 0x7f51ef1ff780>"
      ]
     },
     "execution_count": 17,
     "metadata": {},
     "output_type": "execute_result"
    },
    {
     "data": {
      "image/png": "[encoded data removed]",
      "text/plain": [
       "<matplotlib.figure.Figure at 0x7f51ef1ff0f0>"
      ]
     },
     "metadata": {},
     "output_type": "display_data"
    }
   ],
   "source": [
    "np.log10(combined['severity']).hist(figsize=(15,5), bins=100)"
   ]
  },
  {
   "cell_type": "code",
   "execution_count": 18,
   "metadata": {
    "hidden": true
   },
   "outputs": [
    {
     "data": {
      "text/html": [
       "<div>\n",
       "<style scoped>\n",
       "    .dataframe tbody tr th:only-of-type {\n",
       "        vertical-align: middle;\n",
       "    }\n",
       "\n",
       "    .dataframe tbody tr th {\n",
       "        vertical-align: top;\n",
       "    }\n",
       "\n",
       "    .dataframe thead th {\n",
       "        text-align: right;\n",
       "    }\n",
       "</style>\n",
       "<table border=\"1\" class=\"dataframe\">\n",
       "  <thead>\n",
       "    <tr style=\"text-align: right;\">\n",
       "      <th></th>\n",
       "      <th>count</th>\n",
       "      <th>mean</th>\n",
       "      <th>std</th>\n",
       "      <th>min</th>\n",
       "      <th>25%</th>\n",
       "      <th>50%</th>\n",
       "      <th>75%</th>\n",
       "      <th>max</th>\n",
       "    </tr>\n",
       "    <tr>\n",
       "      <th>sum_insured</th>\n",
       "      <th></th>\n",
       "      <th></th>\n",
       "      <th></th>\n",
       "      <th></th>\n",
       "      <th></th>\n",
       "      <th></th>\n",
       "      <th></th>\n",
       "      <th></th>\n",
       "    </tr>\n",
       "  </thead>\n",
       "  <tbody>\n",
       "    <tr>\n",
       "      <th>200000.0</th>\n",
       "      <td>18093.0</td>\n",
       "      <td>0.403917</td>\n",
       "      <td>0.361881</td>\n",
       "      <td>0.000489</td>\n",
       "      <td>0.088964</td>\n",
       "      <td>0.262962</td>\n",
       "      <td>0.721448</td>\n",
       "      <td>1.0</td>\n",
       "    </tr>\n",
       "    <tr>\n",
       "      <th>280000.0</th>\n",
       "      <td>35564.0</td>\n",
       "      <td>0.403449</td>\n",
       "      <td>0.361768</td>\n",
       "      <td>0.000669</td>\n",
       "      <td>0.090562</td>\n",
       "      <td>0.260186</td>\n",
       "      <td>0.717068</td>\n",
       "      <td>1.0</td>\n",
       "    </tr>\n",
       "    <tr>\n",
       "      <th>360000.0</th>\n",
       "      <td>35822.0</td>\n",
       "      <td>0.403666</td>\n",
       "      <td>0.363263</td>\n",
       "      <td>0.000598</td>\n",
       "      <td>0.090602</td>\n",
       "      <td>0.258192</td>\n",
       "      <td>0.725230</td>\n",
       "      <td>1.0</td>\n",
       "    </tr>\n",
       "    <tr>\n",
       "      <th>440000.0</th>\n",
       "      <td>35651.0</td>\n",
       "      <td>0.404223</td>\n",
       "      <td>0.361821</td>\n",
       "      <td>0.000521</td>\n",
       "      <td>0.091101</td>\n",
       "      <td>0.261402</td>\n",
       "      <td>0.718016</td>\n",
       "      <td>1.0</td>\n",
       "    </tr>\n",
       "    <tr>\n",
       "      <th>520000.0</th>\n",
       "      <td>35150.0</td>\n",
       "      <td>0.403972</td>\n",
       "      <td>0.364292</td>\n",
       "      <td>0.000210</td>\n",
       "      <td>0.089014</td>\n",
       "      <td>0.255829</td>\n",
       "      <td>0.733354</td>\n",
       "      <td>1.0</td>\n",
       "    </tr>\n",
       "    <tr>\n",
       "      <th>600000.0</th>\n",
       "      <td>36033.0</td>\n",
       "      <td>0.400323</td>\n",
       "      <td>0.361359</td>\n",
       "      <td>0.000596</td>\n",
       "      <td>0.089114</td>\n",
       "      <td>0.257996</td>\n",
       "      <td>0.713667</td>\n",
       "      <td>1.0</td>\n",
       "    </tr>\n",
       "    <tr>\n",
       "      <th>680000.0</th>\n",
       "      <td>35274.0</td>\n",
       "      <td>0.401630</td>\n",
       "      <td>0.361224</td>\n",
       "      <td>0.000409</td>\n",
       "      <td>0.089525</td>\n",
       "      <td>0.260535</td>\n",
       "      <td>0.713584</td>\n",
       "      <td>1.0</td>\n",
       "    </tr>\n",
       "    <tr>\n",
       "      <th>760000.0</th>\n",
       "      <td>35633.0</td>\n",
       "      <td>0.403383</td>\n",
       "      <td>0.362798</td>\n",
       "      <td>0.000166</td>\n",
       "      <td>0.090110</td>\n",
       "      <td>0.258883</td>\n",
       "      <td>0.724176</td>\n",
       "      <td>1.0</td>\n",
       "    </tr>\n",
       "    <tr>\n",
       "      <th>840000.0</th>\n",
       "      <td>35198.0</td>\n",
       "      <td>0.402905</td>\n",
       "      <td>0.361981</td>\n",
       "      <td>0.000208</td>\n",
       "      <td>0.090587</td>\n",
       "      <td>0.259841</td>\n",
       "      <td>0.716855</td>\n",
       "      <td>1.0</td>\n",
       "    </tr>\n",
       "    <tr>\n",
       "      <th>920000.0</th>\n",
       "      <td>35708.0</td>\n",
       "      <td>0.403249</td>\n",
       "      <td>0.363082</td>\n",
       "      <td>0.000678</td>\n",
       "      <td>0.089888</td>\n",
       "      <td>0.258234</td>\n",
       "      <td>0.723624</td>\n",
       "      <td>1.0</td>\n",
       "    </tr>\n",
       "    <tr>\n",
       "      <th>1000000.0</th>\n",
       "      <td>17923.0</td>\n",
       "      <td>0.408150</td>\n",
       "      <td>0.363052</td>\n",
       "      <td>0.000982</td>\n",
       "      <td>0.090430</td>\n",
       "      <td>0.266305</td>\n",
       "      <td>0.734538</td>\n",
       "      <td>1.0</td>\n",
       "    </tr>\n",
       "  </tbody>\n",
       "</table>\n",
       "</div>"
      ],
      "text/plain": [
       "               count      mean       std       min       25%       50%  \\\n",
       "sum_insured                                                              \n",
       "200000.0     18093.0  0.403917  0.361881  0.000489  0.088964  0.262962   \n",
       "280000.0     35564.0  0.403449  0.361768  0.000669  0.090562  0.260186   \n",
       "360000.0     35822.0  0.403666  0.363263  0.000598  0.090602  0.258192   \n",
       "440000.0     35651.0  0.404223  0.361821  0.000521  0.091101  0.261402   \n",
       "520000.0     35150.0  0.403972  0.364292  0.000210  0.089014  0.255829   \n",
       "600000.0     36033.0  0.400323  0.361359  0.000596  0.089114  0.257996   \n",
       "680000.0     35274.0  0.401630  0.361224  0.000409  0.089525  0.260535   \n",
       "760000.0     35633.0  0.403383  0.362798  0.000166  0.090110  0.258883   \n",
       "840000.0     35198.0  0.402905  0.361981  0.000208  0.090587  0.259841   \n",
       "920000.0     35708.0  0.403249  0.363082  0.000678  0.089888  0.258234   \n",
       "1000000.0    17923.0  0.408150  0.363052  0.000982  0.090430  0.266305   \n",
       "\n",
       "                  75%  max  \n",
       "sum_insured                 \n",
       "200000.0     0.721448  1.0  \n",
       "280000.0     0.717068  1.0  \n",
       "360000.0     0.725230  1.0  \n",
       "440000.0     0.718016  1.0  \n",
       "520000.0     0.733354  1.0  \n",
       "600000.0     0.713667  1.0  \n",
       "680000.0     0.713584  1.0  \n",
       "760000.0     0.724176  1.0  \n",
       "840000.0     0.716855  1.0  \n",
       "920000.0     0.723624  1.0  \n",
       "1000000.0    0.734538  1.0  "
      ]
     },
     "execution_count": 18,
     "metadata": {},
     "output_type": "execute_result"
    }
   ],
   "source": [
    "combined.groupby('sum_insured')['severity'].describe()"
   ]
  },
  {
   "cell_type": "code",
   "execution_count": 19,
   "metadata": {
    "hidden": true
   },
   "outputs": [
    {
     "data": {
      "text/html": [
       "<div>\n",
       "<style scoped>\n",
       "    .dataframe tbody tr th:only-of-type {\n",
       "        vertical-align: middle;\n",
       "    }\n",
       "\n",
       "    .dataframe tbody tr th {\n",
       "        vertical-align: top;\n",
       "    }\n",
       "\n",
       "    .dataframe thead th {\n",
       "        text-align: right;\n",
       "    }\n",
       "</style>\n",
       "<table border=\"1\" class=\"dataframe\">\n",
       "  <thead>\n",
       "    <tr style=\"text-align: right;\">\n",
       "      <th></th>\n",
       "      <th>count</th>\n",
       "      <th>mean</th>\n",
       "      <th>std</th>\n",
       "      <th>min</th>\n",
       "      <th>25%</th>\n",
       "      <th>50%</th>\n",
       "      <th>75%</th>\n",
       "      <th>max</th>\n",
       "    </tr>\n",
       "    <tr>\n",
       "      <th>trade</th>\n",
       "      <th></th>\n",
       "      <th></th>\n",
       "      <th></th>\n",
       "      <th></th>\n",
       "      <th></th>\n",
       "      <th></th>\n",
       "      <th></th>\n",
       "      <th></th>\n",
       "    </tr>\n",
       "  </thead>\n",
       "  <tbody>\n",
       "    <tr>\n",
       "      <th>Factory</th>\n",
       "      <td>163132.0</td>\n",
       "      <td>0.504688</td>\n",
       "      <td>0.367525</td>\n",
       "      <td>0.000678</td>\n",
       "      <td>0.161103</td>\n",
       "      <td>0.410190</td>\n",
       "      <td>1.000000</td>\n",
       "      <td>1.0</td>\n",
       "    </tr>\n",
       "    <tr>\n",
       "      <th>Office</th>\n",
       "      <td>14044.0</td>\n",
       "      <td>0.271433</td>\n",
       "      <td>0.320275</td>\n",
       "      <td>0.000460</td>\n",
       "      <td>0.040403</td>\n",
       "      <td>0.121733</td>\n",
       "      <td>0.382536</td>\n",
       "      <td>1.0</td>\n",
       "    </tr>\n",
       "    <tr>\n",
       "      <th>Restaurant</th>\n",
       "      <td>114893.0</td>\n",
       "      <td>0.332691</td>\n",
       "      <td>0.338173</td>\n",
       "      <td>0.000409</td>\n",
       "      <td>0.065886</td>\n",
       "      <td>0.185158</td>\n",
       "      <td>0.513937</td>\n",
       "      <td>1.0</td>\n",
       "    </tr>\n",
       "    <tr>\n",
       "      <th>Retail</th>\n",
       "      <td>63980.0</td>\n",
       "      <td>0.300439</td>\n",
       "      <td>0.330220</td>\n",
       "      <td>0.000166</td>\n",
       "      <td>0.051957</td>\n",
       "      <td>0.150865</td>\n",
       "      <td>0.439669</td>\n",
       "      <td>1.0</td>\n",
       "    </tr>\n",
       "  </tbody>\n",
       "</table>\n",
       "</div>"
      ],
      "text/plain": [
       "               count      mean       std       min       25%       50%  \\\n",
       "trade                                                                    \n",
       "Factory     163132.0  0.504688  0.367525  0.000678  0.161103  0.410190   \n",
       "Office       14044.0  0.271433  0.320275  0.000460  0.040403  0.121733   \n",
       "Restaurant  114893.0  0.332691  0.338173  0.000409  0.065886  0.185158   \n",
       "Retail       63980.0  0.300439  0.330220  0.000166  0.051957  0.150865   \n",
       "\n",
       "                 75%  max  \n",
       "trade                      \n",
       "Factory     1.000000  1.0  \n",
       "Office      0.382536  1.0  \n",
       "Restaurant  0.513937  1.0  \n",
       "Retail      0.439669  1.0  "
      ]
     },
     "execution_count": 19,
     "metadata": {},
     "output_type": "execute_result"
    }
   ],
   "source": [
    "combined.groupby('trade')['severity'].describe()"
   ]
  },
  {
   "cell_type": "code",
   "execution_count": 20,
   "metadata": {
    "hidden": true
   },
   "outputs": [
    {
     "data": {
      "text/plain": [
       "trade\n",
       "Factory       163132.0\n",
       "Office         14044.0\n",
       "Restaurant    114893.0\n",
       "Retail         63980.0\n",
       "Name: claim_id, dtype: float64"
      ]
     },
     "execution_count": 20,
     "metadata": {},
     "output_type": "execute_result"
    }
   ],
   "source": [
    "combined.groupby('trade')['claim_id'].agg(lambda x: x.notnull().sum())"
   ]
  },
  {
   "cell_type": "markdown",
   "metadata": {
    "heading_collapsed": true
   },
   "source": [
    "## Prep data for frequency modelling"
   ]
  },
  {
   "cell_type": "code",
   "execution_count": 21,
   "metadata": {
    "hidden": true
   },
   "outputs": [],
   "source": [
    "claims_count = claims_train.groupby('pol_id')['claim_id'].size().reset_index().rename(\n",
    "    columns={'claim_id': 'claim_count'}\n",
    ")"
   ]
  },
  {
   "cell_type": "code",
   "execution_count": 22,
   "metadata": {
    "hidden": true,
    "scrolled": true
   },
   "outputs": [
    {
     "data": {
      "text/html": [
       "<div>\n",
       "<style scoped>\n",
       "    .dataframe tbody tr th:only-of-type {\n",
       "        vertical-align: middle;\n",
       "    }\n",
       "\n",
       "    .dataframe tbody tr th {\n",
       "        vertical-align: top;\n",
       "    }\n",
       "\n",
       "    .dataframe thead th {\n",
       "        text-align: right;\n",
       "    }\n",
       "</style>\n",
       "<table border=\"1\" class=\"dataframe\">\n",
       "  <thead>\n",
       "    <tr style=\"text-align: right;\">\n",
       "      <th></th>\n",
       "      <th>pol_id</th>\n",
       "      <th>claim_count</th>\n",
       "    </tr>\n",
       "  </thead>\n",
       "  <tbody>\n",
       "    <tr>\n",
       "      <th>0</th>\n",
       "      <td>9</td>\n",
       "      <td>1</td>\n",
       "    </tr>\n",
       "    <tr>\n",
       "      <th>1</th>\n",
       "      <td>16</td>\n",
       "      <td>2</td>\n",
       "    </tr>\n",
       "    <tr>\n",
       "      <th>2</th>\n",
       "      <td>20</td>\n",
       "      <td>1</td>\n",
       "    </tr>\n",
       "    <tr>\n",
       "      <th>3</th>\n",
       "      <td>23</td>\n",
       "      <td>1</td>\n",
       "    </tr>\n",
       "    <tr>\n",
       "      <th>4</th>\n",
       "      <td>28</td>\n",
       "      <td>1</td>\n",
       "    </tr>\n",
       "  </tbody>\n",
       "</table>\n",
       "</div>"
      ],
      "text/plain": [
       "   pol_id  claim_count\n",
       "0       9            1\n",
       "1      16            2\n",
       "2      20            1\n",
       "3      23            1\n",
       "4      28            1"
      ]
     },
     "execution_count": 22,
     "metadata": {},
     "output_type": "execute_result"
    }
   ],
   "source": [
    "claims_count.head()"
   ]
  },
  {
   "cell_type": "code",
   "execution_count": 23,
   "metadata": {
    "hidden": true
   },
   "outputs": [],
   "source": [
    "policies_train_claim_counts = policies_train.merge(claims_count, on='pol_id', how='left')"
   ]
  },
  {
   "cell_type": "code",
   "execution_count": 24,
   "metadata": {
    "hidden": true
   },
   "outputs": [],
   "source": [
    "policies_train_claim_counts['claim_count'].fillna(0, inplace=True)"
   ]
  },
  {
   "cell_type": "code",
   "execution_count": 39,
   "metadata": {
    "hidden": true
   },
   "outputs": [
    {
     "data": {
      "text/plain": [
       "trade       sum_insured\n",
       "Factory     200000.0       0.650380\n",
       "            280000.0       0.657320\n",
       "            360000.0       0.662138\n",
       "            440000.0       0.654048\n",
       "            520000.0       0.655774\n",
       "            600000.0       0.660191\n",
       "            680000.0       0.647231\n",
       "            760000.0       0.656984\n",
       "            840000.0       0.648975\n",
       "            920000.0       0.653214\n",
       "            1000000.0      0.653641\n",
       "Office      200000.0       0.060261\n",
       "            280000.0       0.057610\n",
       "            360000.0       0.056657\n",
       "            440000.0       0.056080\n",
       "            520000.0       0.056363\n",
       "            600000.0       0.054529\n",
       "            680000.0       0.055929\n",
       "            760000.0       0.056400\n",
       "            840000.0       0.055199\n",
       "            920000.0       0.055355\n",
       "            1000000.0      0.055596\n",
       "Restaurant  200000.0       0.464618\n",
       "            280000.0       0.458072\n",
       "            360000.0       0.463337\n",
       "            440000.0       0.461105\n",
       "            520000.0       0.449732\n",
       "            600000.0       0.468778\n",
       "            680000.0       0.456183\n",
       "            760000.0       0.457062\n",
       "            840000.0       0.452839\n",
       "            920000.0       0.456938\n",
       "            1000000.0      0.461625\n",
       "Retail      200000.0       0.258781\n",
       "            280000.0       0.250729\n",
       "            360000.0       0.256587\n",
       "            440000.0       0.254438\n",
       "            520000.0       0.250383\n",
       "            600000.0       0.256469\n",
       "            680000.0       0.254541\n",
       "            760000.0       0.256452\n",
       "            840000.0       0.253306\n",
       "            920000.0       0.260371\n",
       "            1000000.0      0.262191\n",
       "Name: claim_count, dtype: float64"
      ]
     },
     "execution_count": 39,
     "metadata": {},
     "output_type": "execute_result"
    }
   ],
   "source": [
    "policies_train_claim_counts.groupby(['trade', 'sum_insured'])['claim_count'].mean()"
   ]
  },
  {
   "cell_type": "code",
   "execution_count": 25,
   "metadata": {
    "hidden": true
   },
   "outputs": [],
   "source": [
    "policies_train_claim_counts['year_ord'] = pd.to_numeric(policies_train_claim_counts['year_built'].str[-4:]) - 1990\n",
    "policies_test['year_ord'] = pd.to_numeric(policies_test['year_built'].str[-4:]) - 1990"
   ]
  },
  {
   "cell_type": "code",
   "execution_count": 26,
   "metadata": {
    "hidden": true
   },
   "outputs": [
    {
     "data": {
      "text/html": [
       "<div>\n",
       "<style scoped>\n",
       "    .dataframe tbody tr th:only-of-type {\n",
       "        vertical-align: middle;\n",
       "    }\n",
       "\n",
       "    .dataframe tbody tr th {\n",
       "        vertical-align: top;\n",
       "    }\n",
       "\n",
       "    .dataframe thead th {\n",
       "        text-align: right;\n",
       "    }\n",
       "</style>\n",
       "<table border=\"1\" class=\"dataframe\">\n",
       "  <thead>\n",
       "    <tr style=\"text-align: right;\">\n",
       "      <th></th>\n",
       "      <th>pol_id</th>\n",
       "      <th>insured</th>\n",
       "      <th>trade</th>\n",
       "      <th>year_built</th>\n",
       "      <th>height</th>\n",
       "      <th>sprinklers</th>\n",
       "      <th>sum_insured</th>\n",
       "      <th>year_ord</th>\n",
       "      <th>claim_count</th>\n",
       "    </tr>\n",
       "  </thead>\n",
       "  <tbody>\n",
       "    <tr>\n",
       "      <th>0</th>\n",
       "      <td>1</td>\n",
       "      <td>Company_1</td>\n",
       "      <td>Office</td>\n",
       "      <td>year:1994</td>\n",
       "      <td>4</td>\n",
       "      <td>0</td>\n",
       "      <td>440000.0</td>\n",
       "      <td>4</td>\n",
       "      <td>0.0</td>\n",
       "    </tr>\n",
       "    <tr>\n",
       "      <th>1</th>\n",
       "      <td>2</td>\n",
       "      <td>Company_2</td>\n",
       "      <td>Retail</td>\n",
       "      <td>year:1994</td>\n",
       "      <td>2</td>\n",
       "      <td>1</td>\n",
       "      <td>440000.0</td>\n",
       "      <td>4</td>\n",
       "      <td>0.0</td>\n",
       "    </tr>\n",
       "    <tr>\n",
       "      <th>2</th>\n",
       "      <td>3</td>\n",
       "      <td>Company_3</td>\n",
       "      <td>Office</td>\n",
       "      <td>year:1996</td>\n",
       "      <td>1</td>\n",
       "      <td>0</td>\n",
       "      <td>760000.0</td>\n",
       "      <td>6</td>\n",
       "      <td>0.0</td>\n",
       "    </tr>\n",
       "    <tr>\n",
       "      <th>3</th>\n",
       "      <td>4</td>\n",
       "      <td>Company_4</td>\n",
       "      <td>Office</td>\n",
       "      <td>year:1990</td>\n",
       "      <td>2</td>\n",
       "      <td>1</td>\n",
       "      <td>760000.0</td>\n",
       "      <td>0</td>\n",
       "      <td>0.0</td>\n",
       "    </tr>\n",
       "    <tr>\n",
       "      <th>4</th>\n",
       "      <td>5</td>\n",
       "      <td>Company_5</td>\n",
       "      <td>Retail</td>\n",
       "      <td>year:1991</td>\n",
       "      <td>3</td>\n",
       "      <td>1</td>\n",
       "      <td>360000.0</td>\n",
       "      <td>1</td>\n",
       "      <td>0.0</td>\n",
       "    </tr>\n",
       "    <tr>\n",
       "      <th>5</th>\n",
       "      <td>6</td>\n",
       "      <td>Company_6</td>\n",
       "      <td>Factory</td>\n",
       "      <td>year:1992</td>\n",
       "      <td>2</td>\n",
       "      <td>0</td>\n",
       "      <td>760000.0</td>\n",
       "      <td>2</td>\n",
       "      <td>0.0</td>\n",
       "    </tr>\n",
       "    <tr>\n",
       "      <th>6</th>\n",
       "      <td>7</td>\n",
       "      <td>Company_7</td>\n",
       "      <td>Retail</td>\n",
       "      <td>year:1991</td>\n",
       "      <td>1</td>\n",
       "      <td>0</td>\n",
       "      <td>200000.0</td>\n",
       "      <td>1</td>\n",
       "      <td>0.0</td>\n",
       "    </tr>\n",
       "    <tr>\n",
       "      <th>7</th>\n",
       "      <td>8</td>\n",
       "      <td>Company_8</td>\n",
       "      <td>Office</td>\n",
       "      <td>year:1993</td>\n",
       "      <td>5</td>\n",
       "      <td>1</td>\n",
       "      <td>520000.0</td>\n",
       "      <td>3</td>\n",
       "      <td>0.0</td>\n",
       "    </tr>\n",
       "    <tr>\n",
       "      <th>8</th>\n",
       "      <td>9</td>\n",
       "      <td>Company_9</td>\n",
       "      <td>Factory</td>\n",
       "      <td>year:2000</td>\n",
       "      <td>2</td>\n",
       "      <td>1</td>\n",
       "      <td>760000.0</td>\n",
       "      <td>10</td>\n",
       "      <td>1.0</td>\n",
       "    </tr>\n",
       "    <tr>\n",
       "      <th>9</th>\n",
       "      <td>10</td>\n",
       "      <td>Company_10</td>\n",
       "      <td>Retail</td>\n",
       "      <td>year:1991</td>\n",
       "      <td>3</td>\n",
       "      <td>1</td>\n",
       "      <td>920000.0</td>\n",
       "      <td>1</td>\n",
       "      <td>0.0</td>\n",
       "    </tr>\n",
       "    <tr>\n",
       "      <th>10</th>\n",
       "      <td>11</td>\n",
       "      <td>Company_11</td>\n",
       "      <td>Retail</td>\n",
       "      <td>year:1996</td>\n",
       "      <td>4</td>\n",
       "      <td>0</td>\n",
       "      <td>200000.0</td>\n",
       "      <td>6</td>\n",
       "      <td>0.0</td>\n",
       "    </tr>\n",
       "    <tr>\n",
       "      <th>11</th>\n",
       "      <td>12</td>\n",
       "      <td>Company_12</td>\n",
       "      <td>Office</td>\n",
       "      <td>year:1998</td>\n",
       "      <td>2</td>\n",
       "      <td>0</td>\n",
       "      <td>600000.0</td>\n",
       "      <td>8</td>\n",
       "      <td>0.0</td>\n",
       "    </tr>\n",
       "    <tr>\n",
       "      <th>12</th>\n",
       "      <td>13</td>\n",
       "      <td>Company_13</td>\n",
       "      <td>Factory</td>\n",
       "      <td>year:1993</td>\n",
       "      <td>5</td>\n",
       "      <td>0</td>\n",
       "      <td>680000.0</td>\n",
       "      <td>3</td>\n",
       "      <td>0.0</td>\n",
       "    </tr>\n",
       "    <tr>\n",
       "      <th>13</th>\n",
       "      <td>14</td>\n",
       "      <td>Company_14</td>\n",
       "      <td>Factory</td>\n",
       "      <td>year:1992</td>\n",
       "      <td>5</td>\n",
       "      <td>1</td>\n",
       "      <td>760000.0</td>\n",
       "      <td>2</td>\n",
       "      <td>0.0</td>\n",
       "    </tr>\n",
       "    <tr>\n",
       "      <th>14</th>\n",
       "      <td>15</td>\n",
       "      <td>Company_15</td>\n",
       "      <td>Retail</td>\n",
       "      <td>year:1993</td>\n",
       "      <td>1</td>\n",
       "      <td>0</td>\n",
       "      <td>760000.0</td>\n",
       "      <td>3</td>\n",
       "      <td>0.0</td>\n",
       "    </tr>\n",
       "    <tr>\n",
       "      <th>15</th>\n",
       "      <td>16</td>\n",
       "      <td>Company_16</td>\n",
       "      <td>Factory</td>\n",
       "      <td>year:1996</td>\n",
       "      <td>1</td>\n",
       "      <td>0</td>\n",
       "      <td>280000.0</td>\n",
       "      <td>6</td>\n",
       "      <td>2.0</td>\n",
       "    </tr>\n",
       "  </tbody>\n",
       "</table>\n",
       "</div>"
      ],
      "text/plain": [
       "    pol_id     insured    trade year_built  height  sprinklers  sum_insured  \\\n",
       "0        1   Company_1   Office  year:1994       4           0     440000.0   \n",
       "1        2   Company_2   Retail  year:1994       2           1     440000.0   \n",
       "2        3   Company_3   Office  year:1996       1           0     760000.0   \n",
       "3        4   Company_4   Office  year:1990       2           1     760000.0   \n",
       "4        5   Company_5   Retail  year:1991       3           1     360000.0   \n",
       "5        6   Company_6  Factory  year:1992       2           0     760000.0   \n",
       "6        7   Company_7   Retail  year:1991       1           0     200000.0   \n",
       "7        8   Company_8   Office  year:1993       5           1     520000.0   \n",
       "8        9   Company_9  Factory  year:2000       2           1     760000.0   \n",
       "9       10  Company_10   Retail  year:1991       3           1     920000.0   \n",
       "10      11  Company_11   Retail  year:1996       4           0     200000.0   \n",
       "11      12  Company_12   Office  year:1998       2           0     600000.0   \n",
       "12      13  Company_13  Factory  year:1993       5           0     680000.0   \n",
       "13      14  Company_14  Factory  year:1992       5           1     760000.0   \n",
       "14      15  Company_15   Retail  year:1993       1           0     760000.0   \n",
       "15      16  Company_16  Factory  year:1996       1           0     280000.0   \n",
       "\n",
       "    year_ord  claim_count  \n",
       "0          4          0.0  \n",
       "1          4          0.0  \n",
       "2          6          0.0  \n",
       "3          0          0.0  \n",
       "4          1          0.0  \n",
       "5          2          0.0  \n",
       "6          1          0.0  \n",
       "7          3          0.0  \n",
       "8         10          1.0  \n",
       "9          1          0.0  \n",
       "10         6          0.0  \n",
       "11         8          0.0  \n",
       "12         3          0.0  \n",
       "13         2          0.0  \n",
       "14         3          0.0  \n",
       "15         6          2.0  "
      ]
     },
     "execution_count": 26,
     "metadata": {},
     "output_type": "execute_result"
    }
   ],
   "source": [
    "policies_train_claim_counts.head(16)"
   ]
  },
  {
   "cell_type": "code",
   "execution_count": 27,
   "metadata": {
    "hidden": true
   },
   "outputs": [
    {
     "data": {
      "text/plain": [
       "trade       claim_count\n",
       "Factory     0.0            129581\n",
       "            1.0             84508\n",
       "            2.0             27881\n",
       "            3.0              5991\n",
       "            4.0              1033\n",
       "            5.0               137\n",
       "            6.0                12\n",
       "Office      0.0            236217\n",
       "            1.0             13279\n",
       "            2.0               366\n",
       "            3.0                11\n",
       "Restaurant  0.0            158251\n",
       "            1.0             72737\n",
       "            2.0             16621\n",
       "            3.0              2522\n",
       "            4.0               309\n",
       "            5.0                20\n",
       "            6.0                 2\n",
       "Retail      0.0            194150\n",
       "            1.0             49385\n",
       "            2.0              6401\n",
       "            3.0               553\n",
       "            4.0                31\n",
       "            5.0                 2\n",
       "Name: claim_count, dtype: int64"
      ]
     },
     "execution_count": 27,
     "metadata": {},
     "output_type": "execute_result"
    }
   ],
   "source": [
    "policies_train_claim_counts.groupby('trade')['claim_count'].value_counts()"
   ]
  },
  {
   "cell_type": "markdown",
   "metadata": {
    "heading_collapsed": true
   },
   "source": [
    "## Frequency modelling"
   ]
  },
  {
   "cell_type": "markdown",
   "metadata": {
    "hidden": true
   },
   "source": [
    "### Create design matrix"
   ]
  },
  {
   "cell_type": "code",
   "execution_count": 28,
   "metadata": {
    "hidden": true
   },
   "outputs": [
    {
     "data": {
      "text/html": [
       "<div>\n",
       "<style scoped>\n",
       "    .dataframe tbody tr th:only-of-type {\n",
       "        vertical-align: middle;\n",
       "    }\n",
       "\n",
       "    .dataframe tbody tr th {\n",
       "        vertical-align: top;\n",
       "    }\n",
       "\n",
       "    .dataframe thead th {\n",
       "        text-align: right;\n",
       "    }\n",
       "</style>\n",
       "<table border=\"1\" class=\"dataframe\">\n",
       "  <thead>\n",
       "    <tr style=\"text-align: right;\">\n",
       "      <th></th>\n",
       "      <th>const</th>\n",
       "      <th>year_ord</th>\n",
       "      <th>height</th>\n",
       "      <th>sprinklers</th>\n",
       "      <th>trade_Office</th>\n",
       "      <th>trade_Restaurant</th>\n",
       "      <th>trade_Retail</th>\n",
       "    </tr>\n",
       "  </thead>\n",
       "  <tbody>\n",
       "    <tr>\n",
       "      <th>0</th>\n",
       "      <td>1.0</td>\n",
       "      <td>4</td>\n",
       "      <td>4</td>\n",
       "      <td>0</td>\n",
       "      <td>1</td>\n",
       "      <td>0</td>\n",
       "      <td>0</td>\n",
       "    </tr>\n",
       "    <tr>\n",
       "      <th>1</th>\n",
       "      <td>1.0</td>\n",
       "      <td>4</td>\n",
       "      <td>2</td>\n",
       "      <td>1</td>\n",
       "      <td>0</td>\n",
       "      <td>0</td>\n",
       "      <td>1</td>\n",
       "    </tr>\n",
       "    <tr>\n",
       "      <th>2</th>\n",
       "      <td>1.0</td>\n",
       "      <td>6</td>\n",
       "      <td>1</td>\n",
       "      <td>0</td>\n",
       "      <td>1</td>\n",
       "      <td>0</td>\n",
       "      <td>0</td>\n",
       "    </tr>\n",
       "    <tr>\n",
       "      <th>3</th>\n",
       "      <td>1.0</td>\n",
       "      <td>0</td>\n",
       "      <td>2</td>\n",
       "      <td>1</td>\n",
       "      <td>1</td>\n",
       "      <td>0</td>\n",
       "      <td>0</td>\n",
       "    </tr>\n",
       "    <tr>\n",
       "      <th>4</th>\n",
       "      <td>1.0</td>\n",
       "      <td>1</td>\n",
       "      <td>3</td>\n",
       "      <td>1</td>\n",
       "      <td>0</td>\n",
       "      <td>0</td>\n",
       "      <td>1</td>\n",
       "    </tr>\n",
       "  </tbody>\n",
       "</table>\n",
       "</div>"
      ],
      "text/plain": [
       "   const  year_ord  height  sprinklers  trade_Office  trade_Restaurant  \\\n",
       "0    1.0         4       4           0             1                 0   \n",
       "1    1.0         4       2           1             0                 0   \n",
       "2    1.0         6       1           0             1                 0   \n",
       "3    1.0         0       2           1             1                 0   \n",
       "4    1.0         1       3           1             0                 0   \n",
       "\n",
       "   trade_Retail  \n",
       "0             0  \n",
       "1             1  \n",
       "2             0  \n",
       "3             0  \n",
       "4             1  "
      ]
     },
     "execution_count": 28,
     "metadata": {},
     "output_type": "execute_result"
    }
   ],
   "source": [
    "Y = policies_train_claim_counts['claim_count']\n",
    "\n",
    "rating_factors = ['trade', 'year_ord', 'height', 'sprinklers']\n",
    "\n",
    "X = pd.get_dummies(policies_train_claim_counts[rating_factors], drop_first=True)\n",
    "X = sm.add_constant(X)\n",
    "X_test = pd.get_dummies(policies_test[rating_factors], drop_first=True)\n",
    "X_test = sm.add_constant(X_test)\n",
    "\n",
    "X.head()"
   ]
  },
  {
   "cell_type": "markdown",
   "metadata": {
    "heading_collapsed": true,
    "hidden": true
   },
   "source": [
    "### Simple linear regression (ordinary least squares)"
   ]
  },
  {
   "cell_type": "code",
   "execution_count": 31,
   "metadata": {
    "hidden": true
   },
   "outputs": [
    {
     "name": "stdout",
     "output_type": "stream",
     "text": [
      "CPU times: user 24.6 s, sys: 22.4 s, total: 47.1 s\n",
      "Wall time: 12.5 s\n"
     ]
    }
   ],
   "source": [
    "%%time\n",
    "ols_model = sm.OLS(Y, X)\n",
    "ols_fitted = ols_model.fit()\n",
    "ols_fitted_reg = ols_model.fit_regularized(alpha=0.001)"
   ]
  },
  {
   "cell_type": "code",
   "execution_count": 32,
   "metadata": {
    "hidden": true
   },
   "outputs": [
    {
     "data": {
      "text/plain": [
       "const               0.660360\n",
       "year_ord           -0.001285\n",
       "height              0.000097\n",
       "sprinklers          0.001106\n",
       "trade_Office       -0.598570\n",
       "trade_Restaurant   -0.196049\n",
       "trade_Retail       -0.399401\n",
       "dtype: float64"
      ]
     },
     "execution_count": 32,
     "metadata": {},
     "output_type": "execute_result"
    }
   ],
   "source": [
    "ols_fitted.params"
   ]
  },
  {
   "cell_type": "code",
   "execution_count": 33,
   "metadata": {
    "hidden": true
   },
   "outputs": [
    {
     "data": {
      "text/plain": [
       "const               0.638823\n",
       "year_ord           -0.000683\n",
       "height              0.001104\n",
       "sprinklers          0.000000\n",
       "trade_Office       -0.578512\n",
       "trade_Restaurant   -0.175998\n",
       "trade_Retail       -0.379344\n",
       "dtype: float64"
      ]
     },
     "execution_count": 33,
     "metadata": {},
     "output_type": "execute_result"
    }
   ],
   "source": [
    "ols_fitted_reg.params"
   ]
  },
  {
   "cell_type": "code",
   "execution_count": 34,
   "metadata": {
    "hidden": true
   },
   "outputs": [
    {
     "data": {
      "text/plain": [
       "0.3564605794354054"
      ]
     },
     "execution_count": 34,
     "metadata": {},
     "output_type": "execute_result"
    }
   ],
   "source": [
    "mse(Y, ols_fitted.predict())"
   ]
  },
  {
   "cell_type": "code",
   "execution_count": 35,
   "metadata": {
    "hidden": true
   },
   "outputs": [
    {
     "data": {
      "text/plain": [
       "0.3565427445812078"
      ]
     },
     "execution_count": 35,
     "metadata": {},
     "output_type": "execute_result"
    }
   ],
   "source": [
    "mse(Y, ols_fitted_reg.predict())"
   ]
  },
  {
   "cell_type": "markdown",
   "metadata": {
    "heading_collapsed": true,
    "hidden": true
   },
   "source": [
    "### Pure means "
   ]
  },
  {
   "cell_type": "code",
   "execution_count": 79,
   "metadata": {
    "hidden": true
   },
   "outputs": [],
   "source": [
    "freq_means = policies_train_claim_counts.groupby(\n",
    "    ['trade', 'year_ord', 'height', 'sprinklers', 'sum_insured']\n",
    ")['claim_count'].mean().reset_index().rename(columns={'claim_count': 'mean_freq'})"
   ]
  },
  {
   "cell_type": "code",
   "execution_count": 80,
   "metadata": {
    "hidden": true
   },
   "outputs": [
    {
     "data": {
      "text/html": [
       "<div>\n",
       "<style scoped>\n",
       "    .dataframe tbody tr th:only-of-type {\n",
       "        vertical-align: middle;\n",
       "    }\n",
       "\n",
       "    .dataframe tbody tr th {\n",
       "        vertical-align: top;\n",
       "    }\n",
       "\n",
       "    .dataframe thead th {\n",
       "        text-align: right;\n",
       "    }\n",
       "</style>\n",
       "<table border=\"1\" class=\"dataframe\">\n",
       "  <thead>\n",
       "    <tr style=\"text-align: right;\">\n",
       "      <th></th>\n",
       "      <th>trade</th>\n",
       "      <th>year_ord</th>\n",
       "      <th>height</th>\n",
       "      <th>sprinklers</th>\n",
       "      <th>sum_insured</th>\n",
       "      <th>mean_freq</th>\n",
       "    </tr>\n",
       "  </thead>\n",
       "  <tbody>\n",
       "    <tr>\n",
       "      <th>0</th>\n",
       "      <td>Factory</td>\n",
       "      <td>0</td>\n",
       "      <td>1</td>\n",
       "      <td>0</td>\n",
       "      <td>200000.0</td>\n",
       "      <td>0.655172</td>\n",
       "    </tr>\n",
       "    <tr>\n",
       "      <th>1</th>\n",
       "      <td>Factory</td>\n",
       "      <td>0</td>\n",
       "      <td>1</td>\n",
       "      <td>0</td>\n",
       "      <td>280000.0</td>\n",
       "      <td>0.550607</td>\n",
       "    </tr>\n",
       "    <tr>\n",
       "      <th>2</th>\n",
       "      <td>Factory</td>\n",
       "      <td>0</td>\n",
       "      <td>1</td>\n",
       "      <td>0</td>\n",
       "      <td>360000.0</td>\n",
       "      <td>0.697248</td>\n",
       "    </tr>\n",
       "    <tr>\n",
       "      <th>3</th>\n",
       "      <td>Factory</td>\n",
       "      <td>0</td>\n",
       "      <td>1</td>\n",
       "      <td>0</td>\n",
       "      <td>440000.0</td>\n",
       "      <td>0.591304</td>\n",
       "    </tr>\n",
       "    <tr>\n",
       "      <th>4</th>\n",
       "      <td>Factory</td>\n",
       "      <td>0</td>\n",
       "      <td>1</td>\n",
       "      <td>0</td>\n",
       "      <td>520000.0</td>\n",
       "      <td>0.677130</td>\n",
       "    </tr>\n",
       "  </tbody>\n",
       "</table>\n",
       "</div>"
      ],
      "text/plain": [
       "     trade  year_ord  height  sprinklers  sum_insured  mean_freq\n",
       "0  Factory         0       1           0     200000.0   0.655172\n",
       "1  Factory         0       1           0     280000.0   0.550607\n",
       "2  Factory         0       1           0     360000.0   0.697248\n",
       "3  Factory         0       1           0     440000.0   0.591304\n",
       "4  Factory         0       1           0     520000.0   0.677130"
      ]
     },
     "execution_count": 80,
     "metadata": {},
     "output_type": "execute_result"
    }
   ],
   "source": [
    "freq_means.head()"
   ]
  },
  {
   "cell_type": "code",
   "execution_count": 81,
   "metadata": {
    "hidden": true
   },
   "outputs": [],
   "source": [
    "freq_rms = policies_train_claim_counts.groupby(\n",
    "    ['trade', 'year_ord', 'height', 'sprinklers', 'sum_insured']\n",
    ")['claim_count'].agg(lambda x: (x**2).mean()**(1/2)).reset_index().rename(columns={'claim_count': 'rms_freq'})"
   ]
  },
  {
   "cell_type": "code",
   "execution_count": 82,
   "metadata": {
    "hidden": true
   },
   "outputs": [
    {
     "data": {
      "text/html": [
       "<div>\n",
       "<style scoped>\n",
       "    .dataframe tbody tr th:only-of-type {\n",
       "        vertical-align: middle;\n",
       "    }\n",
       "\n",
       "    .dataframe tbody tr th {\n",
       "        vertical-align: top;\n",
       "    }\n",
       "\n",
       "    .dataframe thead th {\n",
       "        text-align: right;\n",
       "    }\n",
       "</style>\n",
       "<table border=\"1\" class=\"dataframe\">\n",
       "  <thead>\n",
       "    <tr style=\"text-align: right;\">\n",
       "      <th></th>\n",
       "      <th>trade</th>\n",
       "      <th>year_ord</th>\n",
       "      <th>height</th>\n",
       "      <th>sprinklers</th>\n",
       "      <th>sum_insured</th>\n",
       "      <th>rms_freq</th>\n",
       "    </tr>\n",
       "  </thead>\n",
       "  <tbody>\n",
       "    <tr>\n",
       "      <th>0</th>\n",
       "      <td>Factory</td>\n",
       "      <td>0</td>\n",
       "      <td>1</td>\n",
       "      <td>0</td>\n",
       "      <td>200000.0</td>\n",
       "      <td>1.050451</td>\n",
       "    </tr>\n",
       "    <tr>\n",
       "      <th>1</th>\n",
       "      <td>Factory</td>\n",
       "      <td>0</td>\n",
       "      <td>1</td>\n",
       "      <td>0</td>\n",
       "      <td>280000.0</td>\n",
       "      <td>0.926445</td>\n",
       "    </tr>\n",
       "    <tr>\n",
       "      <th>2</th>\n",
       "      <td>Factory</td>\n",
       "      <td>0</td>\n",
       "      <td>1</td>\n",
       "      <td>0</td>\n",
       "      <td>360000.0</td>\n",
       "      <td>1.117008</td>\n",
       "    </tr>\n",
       "    <tr>\n",
       "      <th>3</th>\n",
       "      <td>Factory</td>\n",
       "      <td>0</td>\n",
       "      <td>1</td>\n",
       "      <td>0</td>\n",
       "      <td>440000.0</td>\n",
       "      <td>0.927831</td>\n",
       "    </tr>\n",
       "    <tr>\n",
       "      <th>4</th>\n",
       "      <td>Factory</td>\n",
       "      <td>0</td>\n",
       "      <td>1</td>\n",
       "      <td>0</td>\n",
       "      <td>520000.0</td>\n",
       "      <td>1.022176</td>\n",
       "    </tr>\n",
       "  </tbody>\n",
       "</table>\n",
       "</div>"
      ],
      "text/plain": [
       "     trade  year_ord  height  sprinklers  sum_insured  rms_freq\n",
       "0  Factory         0       1           0     200000.0  1.050451\n",
       "1  Factory         0       1           0     280000.0  0.926445\n",
       "2  Factory         0       1           0     360000.0  1.117008\n",
       "3  Factory         0       1           0     440000.0  0.927831\n",
       "4  Factory         0       1           0     520000.0  1.022176"
      ]
     },
     "execution_count": 82,
     "metadata": {},
     "output_type": "execute_result"
    }
   ],
   "source": [
    "freq_rms.head()"
   ]
  },
  {
   "cell_type": "code",
   "execution_count": 83,
   "metadata": {
    "hidden": true
   },
   "outputs": [],
   "source": [
    "Y_means = policies_train_claim_counts.merge(freq_means)['mean_freq']"
   ]
  },
  {
   "cell_type": "code",
   "execution_count": 84,
   "metadata": {
    "hidden": true
   },
   "outputs": [
    {
     "data": {
      "text/plain": [
       "0.45780184989963674"
      ]
     },
     "execution_count": 84,
     "metadata": {},
     "output_type": "execute_result"
    }
   ],
   "source": [
    "mse(Y, Y_means)"
   ]
  },
  {
   "cell_type": "code",
   "execution_count": 85,
   "metadata": {
    "hidden": true
   },
   "outputs": [],
   "source": [
    "Y_rms = policies_train_claim_counts.merge(freq_rms)['rms_freq']"
   ]
  },
  {
   "cell_type": "code",
   "execution_count": 86,
   "metadata": {
    "hidden": true
   },
   "outputs": [
    {
     "data": {
      "text/plain": [
       "0.5927702236011302"
      ]
     },
     "execution_count": 86,
     "metadata": {},
     "output_type": "execute_result"
    }
   ],
   "source": [
    "mse(Y, Y_rms)"
   ]
  },
  {
   "cell_type": "markdown",
   "metadata": {
    "heading_collapsed": true,
    "hidden": true
   },
   "source": [
    "### Generalized Linear Model (GLM)"
   ]
  },
  {
   "cell_type": "code",
   "execution_count": 58,
   "metadata": {
    "hidden": true
   },
   "outputs": [],
   "source": [
    "glm_model = sm.GLM(Y, X, family=sm.families.Poisson())"
   ]
  },
  {
   "cell_type": "code",
   "execution_count": 59,
   "metadata": {
    "hidden": true
   },
   "outputs": [
    {
     "name": "stdout",
     "output_type": "stream",
     "text": [
      "CPU times: user 5min 8s, sys: 5min 16s, total: 10min 24s\n",
      "Wall time: 2min 52s\n"
     ]
    }
   ],
   "source": [
    "%%time\n",
    "glm_fitted = glm_model.fit()\n",
    "glm_fitted_reg = glm_model.fit_regularized(alpha=0.001)"
   ]
  },
  {
   "cell_type": "code",
   "execution_count": 60,
   "metadata": {
    "hidden": true
   },
   "outputs": [
    {
     "data": {
      "text/plain": [
       "const              -0.407845\n",
       "year_ord           -0.003611\n",
       "height              0.000274\n",
       "sprinklers          0.003110\n",
       "trade_Office       -2.455296\n",
       "trade_Restaurant   -0.355841\n",
       "trade_Retail       -0.941551\n",
       "dtype: float64"
      ]
     },
     "execution_count": 60,
     "metadata": {},
     "output_type": "execute_result"
    }
   ],
   "source": [
    "glm_fitted.params"
   ]
  },
  {
   "cell_type": "code",
   "execution_count": 61,
   "metadata": {
    "hidden": true
   },
   "outputs": [
    {
     "data": {
      "text/plain": [
       "const              -0.404647\n",
       "year_ord           -0.004720\n",
       "height             -0.002543\n",
       "sprinklers          0.000000\n",
       "trade_Office       -2.374202\n",
       "trade_Restaurant   -0.334871\n",
       "trade_Retail       -0.913745\n",
       "dtype: float64"
      ]
     },
     "execution_count": 61,
     "metadata": {},
     "output_type": "execute_result"
    }
   ],
   "source": [
    "glm_fitted_reg.params"
   ]
  },
  {
   "cell_type": "code",
   "execution_count": 62,
   "metadata": {
    "hidden": true
   },
   "outputs": [
    {
     "data": {
      "text/plain": [
       "<matplotlib.axes._subplots.AxesSubplot at 0x7f51d5f69358>"
      ]
     },
     "execution_count": 62,
     "metadata": {},
     "output_type": "execute_result"
    },
    {
     "data": {
      "image/png": "[encoded data removed]",
      "text/plain": [
       "<matplotlib.figure.Figure at 0x7f51d5f616d8>"
      ]
     },
     "metadata": {},
     "output_type": "display_data"
    }
   ],
   "source": [
    "pd.Series(ols_fitted_reg.predict()).hist(figsize=(15,5), bins=100)"
   ]
  },
  {
   "cell_type": "code",
   "execution_count": 63,
   "metadata": {
    "hidden": true
   },
   "outputs": [
    {
     "data": {
      "text/plain": [
       "<matplotlib.axes._subplots.AxesSubplot at 0x7f51d5f169b0>"
      ]
     },
     "execution_count": 63,
     "metadata": {},
     "output_type": "execute_result"
    },
    {
     "data": {
      "image/png": "[encoded data removed]",
      "text/plain": [
       "<matplotlib.figure.Figure at 0x7f51d5f585f8>"
      ]
     },
     "metadata": {},
     "output_type": "display_data"
    }
   ],
   "source": [
    "pd.Series(glm_fitted_reg.predict()).hist(figsize=(15,5), bins=100)"
   ]
  },
  {
   "cell_type": "code",
   "execution_count": 132,
   "metadata": {
    "hidden": true
   },
   "outputs": [
    {
     "data": {
      "text/plain": [
       "0.35646570058639315"
      ]
     },
     "execution_count": 132,
     "metadata": {},
     "output_type": "execute_result"
    }
   ],
   "source": [
    "mse(Y, glm_fitted.predict())"
   ]
  },
  {
   "cell_type": "code",
   "execution_count": 78,
   "metadata": {
    "hidden": true
   },
   "outputs": [
    {
     "data": {
      "text/plain": [
       "0.3565038399863048"
      ]
     },
     "execution_count": 78,
     "metadata": {},
     "output_type": "execute_result"
    }
   ],
   "source": [
    "mse(Y, glm_fitted_reg.predict())"
   ]
  },
  {
   "cell_type": "markdown",
   "metadata": {
    "heading_collapsed": true,
    "hidden": true
   },
   "source": [
    "### GBM model (model_toolbox xgboost)"
   ]
  },
  {
   "cell_type": "code",
   "execution_count": 133,
   "metadata": {
    "hidden": true
   },
   "outputs": [
    {
     "name": "stdout",
     "output_type": "stream",
     "text": [
      "CPU times: user 1min 2s, sys: 9.99 ms, total: 1min 2s\n",
      "Wall time: 16.1 s\n"
     ]
    }
   ],
   "source": [
    "%%time\n",
    "xgb_model = gbm.LogGBM(objective='count:poisson', silent=0)\n",
    "xgb_fitted = xgb_model.fit(X, Y)"
   ]
  },
  {
   "cell_type": "code",
   "execution_count": 134,
   "metadata": {
    "hidden": true
   },
   "outputs": [
    {
     "data": {
      "text/plain": [
       "<matplotlib.axes._subplots.AxesSubplot at 0x7f51c747dc88>"
      ]
     },
     "execution_count": 134,
     "metadata": {},
     "output_type": "execute_result"
    },
    {
     "data": {
      "image/png": "[encoded data removed]",
      "text/plain": [
       "<matplotlib.figure.Figure at 0x7f51c747d438>"
      ]
     },
     "metadata": {},
     "output_type": "display_data"
    }
   ],
   "source": [
    "pd.Series(xgb_fitted.predict(X)).hist(figsize=(15,5), bins=100)"
   ]
  },
  {
   "cell_type": "code",
   "execution_count": 135,
   "metadata": {
    "hidden": true
   },
   "outputs": [
    {
     "data": {
      "text/plain": [
       "0.356440827444706"
      ]
     },
     "execution_count": 135,
     "metadata": {},
     "output_type": "execute_result"
    }
   ],
   "source": [
    "mse(Y, xgb_fitted.predict(X))"
   ]
  },
  {
   "cell_type": "code",
   "execution_count": 136,
   "metadata": {
    "hidden": true
   },
   "outputs": [
    {
     "name": "stdout",
     "output_type": "stream",
     "text": [
      "CPU times: user 2min 45s, sys: 385 ms, total: 2min 46s\n",
      "Wall time: 43.3 s\n"
     ]
    }
   ],
   "source": [
    "%%time\n",
    "xgb_model_cv3 = gbm.LogGBM(objective='count:poisson', validation_cv_folds=3, silent=0)\n",
    "xgb_fitted_cv3 = xgb_model_cv3.fit(X, Y)"
   ]
  },
  {
   "cell_type": "code",
   "execution_count": 137,
   "metadata": {
    "hidden": true
   },
   "outputs": [
    {
     "data": {
      "text/plain": [
       "<matplotlib.axes._subplots.AxesSubplot at 0x7f51c73a36a0>"
      ]
     },
     "execution_count": 137,
     "metadata": {},
     "output_type": "execute_result"
    },
    {
     "data": {
      "image/png": "[encoded data removed]",
      "text/plain": [
       "<matplotlib.figure.Figure at 0x7f51c73b4f98>"
      ]
     },
     "metadata": {},
     "output_type": "display_data"
    }
   ],
   "source": [
    "pd.Series(xgb_fitted_cv3.predict(X)).hist(figsize=(15,5), bins=100)"
   ]
  },
  {
   "cell_type": "code",
   "execution_count": 138,
   "metadata": {
    "hidden": true
   },
   "outputs": [
    {
     "data": {
      "text/plain": [
       "0.35645109112564183"
      ]
     },
     "execution_count": 138,
     "metadata": {},
     "output_type": "execute_result"
    }
   ],
   "source": [
    "mse(Y, xgb_fitted_cv3.predict(X))"
   ]
  },
  {
   "cell_type": "markdown",
   "metadata": {
    "heading_collapsed": true
   },
   "source": [
    "## Severity modelling "
   ]
  },
  {
   "cell_type": "markdown",
   "metadata": {
    "heading_collapsed": true,
    "hidden": true
   },
   "source": [
    "### Data prep"
   ]
  },
  {
   "cell_type": "code",
   "execution_count": 87,
   "metadata": {
    "hidden": true
   },
   "outputs": [],
   "source": [
    "sev_all = combined[combined['severity'] > 0]\n",
    "sev_partial = sev_all[sev_all['severity'] < 1]"
   ]
  },
  {
   "cell_type": "code",
   "execution_count": 88,
   "metadata": {
    "hidden": true
   },
   "outputs": [
    {
     "data": {
      "text/plain": [
       "(356049, 290064)"
      ]
     },
     "execution_count": 88,
     "metadata": {},
     "output_type": "execute_result"
    }
   ],
   "source": [
    "len(sev_all), len(sev_partial)"
   ]
  },
  {
   "cell_type": "code",
   "execution_count": 89,
   "metadata": {
    "hidden": true
   },
   "outputs": [],
   "source": [
    "Y_sev_all = sev_all['severity']\n",
    "Y_sev_part = sev_partial['severity']\n",
    "\n",
    "rating_factors = ['trade', 'year_ord', 'height', 'sprinklers']\n",
    "\n",
    "X_sev_all = pd.get_dummies(sev_all[rating_factors], drop_first=True)\n",
    "X_sev_all = sm.add_constant(X_sev_all)\n",
    "X_sev_has_sprinklers = X_sev_all[X_sev_all['sprinklers'] == 1]\n",
    "X_sev_no_sprinklers = X_sev_all[X_sev_all['sprinklers'] == 0]\n",
    "\n",
    "X_sev_part = pd.get_dummies(sev_partial[rating_factors], drop_first=True)\n",
    "X_sev_part = sm.add_constant(X_sev_part)\n",
    "\n",
    "X_sev_test = pd.get_dummies(policies_test[rating_factors], drop_first=True)\n",
    "X_sev_test = sm.add_constant(X_sev_test)"
   ]
  },
  {
   "cell_type": "markdown",
   "metadata": {
    "heading_collapsed": true,
    "hidden": true
   },
   "source": [
    "### OLS severity model"
   ]
  },
  {
   "cell_type": "code",
   "execution_count": 90,
   "metadata": {
    "hidden": true
   },
   "outputs": [
    {
     "name": "stdout",
     "output_type": "stream",
     "text": [
      "CPU times: user 8.95 s, sys: 8.5 s, total: 17.4 s\n",
      "Wall time: 4.48 s\n"
     ]
    }
   ],
   "source": [
    "%%time\n",
    "ols_sev_all_model = sm.OLS(Y_sev_all, X_sev_all)\n",
    "ols_sev_all_fitted = ols_sev_all_model.fit()\n",
    "ols_sev_all_fitted_reg = ols_sev_all_model.fit_regularized(alpha=0.001)"
   ]
  },
  {
   "cell_type": "code",
   "execution_count": 91,
   "metadata": {
    "hidden": true
   },
   "outputs": [
    {
     "data": {
      "text/plain": [
       "const               0.613735\n",
       "year_ord            0.000147\n",
       "height              0.000003\n",
       "sprinklers         -0.219158\n",
       "trade_Office       -0.232828\n",
       "trade_Restaurant   -0.172288\n",
       "trade_Retail       -0.203854\n",
       "dtype: float64"
      ]
     },
     "execution_count": 91,
     "metadata": {},
     "output_type": "execute_result"
    }
   ],
   "source": [
    "ols_sev_all_fitted.params"
   ]
  },
  {
   "cell_type": "code",
   "execution_count": 92,
   "metadata": {
    "hidden": true
   },
   "outputs": [
    {
     "data": {
      "text/plain": [
       "const               0.596805\n",
       "year_ord            0.000571\n",
       "height              0.001027\n",
       "sprinklers         -0.213153\n",
       "trade_Office       -0.198670\n",
       "trade_Restaurant   -0.160444\n",
       "trade_Retail       -0.189534\n",
       "dtype: float64"
      ]
     },
     "execution_count": 92,
     "metadata": {},
     "output_type": "execute_result"
    }
   ],
   "source": [
    "ols_sev_all_fitted_reg.params"
   ]
  },
  {
   "cell_type": "code",
   "execution_count": 93,
   "metadata": {
    "hidden": true
   },
   "outputs": [
    {
     "data": {
      "text/plain": [
       "<matplotlib.axes._subplots.AxesSubplot at 0x7f51d5e263c8>"
      ]
     },
     "execution_count": 93,
     "metadata": {},
     "output_type": "execute_result"
    },
    {
     "data": {
      "image/png": "[encoded data removed]",
      "text/plain": [
       "<matplotlib.figure.Figure at 0x7f51d5e1f7f0>"
      ]
     },
     "metadata": {},
     "output_type": "display_data"
    }
   ],
   "source": [
    "pd.Series(ols_sev_all_fitted.predict()).hist(figsize=(15,5), bins=100)"
   ]
  },
  {
   "cell_type": "code",
   "execution_count": 94,
   "metadata": {
    "hidden": true
   },
   "outputs": [
    {
     "data": {
      "text/plain": [
       "<matplotlib.axes._subplots.AxesSubplot at 0x7f51d5d4ac88>"
      ]
     },
     "execution_count": 94,
     "metadata": {},
     "output_type": "execute_result"
    },
    {
     "data": {
      "image/png": "[encoded data removed]",
      "text/plain": [
       "<matplotlib.figure.Figure at 0x7f51d5dc6550>"
      ]
     },
     "metadata": {},
     "output_type": "display_data"
    }
   ],
   "source": [
    "pd.Series(ols_sev_all_fitted_reg.predict()).hist(figsize=(15,5), bins=100)"
   ]
  },
  {
   "cell_type": "code",
   "execution_count": 95,
   "metadata": {
    "hidden": true
   },
   "outputs": [
    {
     "data": {
      "text/plain": [
       "<matplotlib.axes._subplots.AxesSubplot at 0x7f51d5cce240>"
      ]
     },
     "execution_count": 95,
     "metadata": {},
     "output_type": "execute_result"
    },
    {
     "data": {
      "image/png": "[encoded data removed]",
      "text/plain": [
       "<matplotlib.figure.Figure at 0x7f51d5d4a400>"
      ]
     },
     "metadata": {},
     "output_type": "display_data"
    }
   ],
   "source": [
    "pd.Series(ols_sev_all_fitted_reg.predict(X_sev_has_sprinklers)).hist(figsize=(15,5), bins=100)"
   ]
  },
  {
   "cell_type": "code",
   "execution_count": 96,
   "metadata": {
    "hidden": true
   },
   "outputs": [
    {
     "data": {
      "text/plain": [
       "0.11042229418569993"
      ]
     },
     "execution_count": 96,
     "metadata": {},
     "output_type": "execute_result"
    }
   ],
   "source": [
    "mse(Y_sev_all, ols_sev_all_fitted.predict())"
   ]
  },
  {
   "cell_type": "code",
   "execution_count": 97,
   "metadata": {
    "hidden": true
   },
   "outputs": [
    {
     "data": {
      "text/plain": [
       "0.11050410113229214"
      ]
     },
     "execution_count": 97,
     "metadata": {},
     "output_type": "execute_result"
    }
   ],
   "source": [
    "mse(Y_sev_all, ols_sev_all_fitted_reg.predict())"
   ]
  },
  {
   "cell_type": "code",
   "execution_count": 98,
   "metadata": {
    "hidden": true
   },
   "outputs": [],
   "source": [
    "ols_sev_part_model = sm.OLS(Y_sev_part, X_sev_part)\n",
    "ols_sev_part_fitted_reg = ols_sev_part_model.fit_regularized(alpha=0.001)"
   ]
  },
  {
   "cell_type": "code",
   "execution_count": 99,
   "metadata": {
    "hidden": true
   },
   "outputs": [
    {
     "data": {
      "text/plain": [
       "const               0.385122\n",
       "year_ord            0.000506\n",
       "height              0.000000\n",
       "sprinklers         -0.119368\n",
       "trade_Office       -0.107454\n",
       "trade_Restaurant   -0.086755\n",
       "trade_Retail       -0.106873\n",
       "dtype: float64"
      ]
     },
     "execution_count": 99,
     "metadata": {},
     "output_type": "execute_result"
    }
   ],
   "source": [
    "ols_sev_part_fitted_reg.params"
   ]
  },
  {
   "cell_type": "code",
   "execution_count": 100,
   "metadata": {
    "hidden": true
   },
   "outputs": [
    {
     "data": {
      "text/plain": [
       "0.05490503340401192"
      ]
     },
     "execution_count": 100,
     "metadata": {},
     "output_type": "execute_result"
    }
   ],
   "source": [
    "mse(Y_sev_part, ols_sev_part_fitted_reg.predict())"
   ]
  },
  {
   "cell_type": "code",
   "execution_count": 101,
   "metadata": {
    "hidden": true
   },
   "outputs": [
    {
     "data": {
      "text/plain": [
       "0.13118488291992084"
      ]
     },
     "execution_count": 101,
     "metadata": {},
     "output_type": "execute_result"
    }
   ],
   "source": [
    "trunc_pred = ols_sev_part_fitted_reg.predict(X_sev_all)\n",
    "mse(Y_sev_all, trunc_pred)"
   ]
  },
  {
   "cell_type": "markdown",
   "metadata": {
    "heading_collapsed": true,
    "hidden": true
   },
   "source": [
    "### GLM severity model "
   ]
  },
  {
   "cell_type": "code",
   "execution_count": 102,
   "metadata": {
    "hidden": true
   },
   "outputs": [
    {
     "name": "stdout",
     "output_type": "stream",
     "text": [
      "CPU times: user 9min 39s, sys: 10min 53s, total: 20min 33s\n",
      "Wall time: 5min 9s\n"
     ]
    }
   ],
   "source": [
    "%%time\n",
    "glm_sev_all_model = sm.GLM(Y_sev_all, X_sev_all, family=sm.families.Gamma(link=sm.families.links.log))\n",
    "glm_sev_all_fitted = glm_sev_all_model.fit()\n",
    "glm_sev_all_fitted_reg = glm_sev_all_model.fit_regularized(alpha=0.001) # L1 regularization"
   ]
  },
  {
   "cell_type": "code",
   "execution_count": 103,
   "metadata": {
    "hidden": true
   },
   "outputs": [
    {
     "data": {
      "text/plain": [
       "const              -0.354281\n",
       "year_ord            0.000380\n",
       "height              0.000017\n",
       "sprinklers         -0.652269\n",
       "trade_Office       -0.770305\n",
       "trade_Restaurant   -0.504735\n",
       "trade_Retail       -0.637217\n",
       "dtype: float64"
      ]
     },
     "execution_count": 103,
     "metadata": {},
     "output_type": "execute_result"
    }
   ],
   "source": [
    "glm_sev_all_fitted.params"
   ]
  },
  {
   "cell_type": "code",
   "execution_count": 116,
   "metadata": {
    "hidden": true
   },
   "outputs": [
    {
     "data": {
      "text/plain": [
       "2.919203434318407"
      ]
     },
     "execution_count": 116,
     "metadata": {},
     "output_type": "execute_result"
    }
   ],
   "source": [
    "glm_sev_all_fitted.params.abs().sum()"
   ]
  },
  {
   "cell_type": "code",
   "execution_count": 105,
   "metadata": {
    "hidden": true
   },
   "outputs": [
    {
     "data": {
      "text/plain": [
       "const              -0.576108\n",
       "year_ord            0.000806\n",
       "height              0.006740\n",
       "sprinklers         -0.516710\n",
       "trade_Office       -0.592110\n",
       "trade_Restaurant   -0.361189\n",
       "trade_Retail       -0.484578\n",
       "dtype: float64"
      ]
     },
     "execution_count": 105,
     "metadata": {},
     "output_type": "execute_result"
    }
   ],
   "source": [
    "glm_sev_all_fitted_reg.params"
   ]
  },
  {
   "cell_type": "code",
   "execution_count": 117,
   "metadata": {
    "hidden": true
   },
   "outputs": [
    {
     "data": {
      "text/plain": [
       "2.5382409883075825"
      ]
     },
     "execution_count": 117,
     "metadata": {},
     "output_type": "execute_result"
    }
   ],
   "source": [
    "glm_sev_all_fitted_reg.params.abs().sum()"
   ]
  },
  {
   "cell_type": "code",
   "execution_count": 107,
   "metadata": {
    "hidden": true
   },
   "outputs": [
    {
     "data": {
      "text/plain": [
       "<matplotlib.axes._subplots.AxesSubplot at 0x7f51d5c60dd8>"
      ]
     },
     "execution_count": 107,
     "metadata": {},
     "output_type": "execute_result"
    },
    {
     "data": {
      "image/png": "[encoded data removed]",
      "text/plain": [
       "<matplotlib.figure.Figure at 0x7f51d5c4b940>"
      ]
     },
     "metadata": {},
     "output_type": "display_data"
    }
   ],
   "source": [
    "pd.Series(glm_sev_all_fitted.predict()).hist(figsize=(15,5), bins=100)"
   ]
  },
  {
   "cell_type": "code",
   "execution_count": 108,
   "metadata": {
    "hidden": true
   },
   "outputs": [
    {
     "data": {
      "text/plain": [
       "<matplotlib.axes._subplots.AxesSubplot at 0x7f51d5bc8b38>"
      ]
     },
     "execution_count": 108,
     "metadata": {},
     "output_type": "execute_result"
    },
    {
     "data": {
      "image/png": "[encoded data removed]",
      "text/plain": [
       "<matplotlib.figure.Figure at 0x7f51d5cbc7f0>"
      ]
     },
     "metadata": {},
     "output_type": "display_data"
    }
   ],
   "source": [
    "pd.Series(glm_sev_all_fitted_reg.predict()).hist(figsize=(15,5), bins=100)"
   ]
  },
  {
   "cell_type": "code",
   "execution_count": 109,
   "metadata": {
    "hidden": true
   },
   "outputs": [
    {
     "data": {
      "text/plain": [
       "0.11506981750405229"
      ]
     },
     "execution_count": 109,
     "metadata": {},
     "output_type": "execute_result"
    }
   ],
   "source": [
    "mse(Y_sev_all, glm_sev_all_fitted.predict())"
   ]
  },
  {
   "cell_type": "code",
   "execution_count": 110,
   "metadata": {
    "hidden": true
   },
   "outputs": [
    {
     "data": {
      "text/plain": [
       "0.11343749026042604"
      ]
     },
     "execution_count": 110,
     "metadata": {},
     "output_type": "execute_result"
    }
   ],
   "source": [
    "mse(Y_sev_all, glm_sev_all_fitted_reg.predict())"
   ]
  },
  {
   "cell_type": "code",
   "execution_count": 111,
   "metadata": {
    "hidden": true
   },
   "outputs": [
    {
     "data": {
      "text/plain": [
       "<matplotlib.axes._subplots.AxesSubplot at 0x7f51ec493278>"
      ]
     },
     "execution_count": 111,
     "metadata": {},
     "output_type": "execute_result"
    },
    {
     "data": {
      "image/png": "[encoded data removed]",
      "text/plain": [
       "<matplotlib.figure.Figure at 0x7f51d5b74cf8>"
      ]
     },
     "metadata": {},
     "output_type": "display_data"
    }
   ],
   "source": [
    "pd.Series(glm_sev_all_fitted_reg.predict(X_sev_has_sprinklers)).hist(figsize=(15,5), bins=100)"
   ]
  },
  {
   "cell_type": "code",
   "execution_count": 112,
   "metadata": {
    "hidden": true
   },
   "outputs": [
    {
     "data": {
      "text/plain": [
       "<matplotlib.axes._subplots.AxesSubplot at 0x7f51d5a90898>"
      ]
     },
     "execution_count": 112,
     "metadata": {},
     "output_type": "execute_result"
    },
    {
     "data": {
      "image/png": "[encoded data removed]",
      "text/plain": [
       "<matplotlib.figure.Figure at 0x7f51d5c658d0>"
      ]
     },
     "metadata": {},
     "output_type": "display_data"
    }
   ],
   "source": [
    "pd.Series(glm_sev_all_fitted_reg.predict(X_sev_no_sprinklers)).hist(figsize=(15,5), bins=100)"
   ]
  },
  {
   "cell_type": "code",
   "execution_count": 118,
   "metadata": {
    "hidden": true
   },
   "outputs": [
    {
     "name": "stdout",
     "output_type": "stream",
     "text": [
      "CPU times: user 8min 9s, sys: 9min 8s, total: 17min 17s\n",
      "Wall time: 4min 19s\n"
     ]
    }
   ],
   "source": [
    "%%time\n",
    "glm_sev_part_model = sm.GLM(Y_sev_part, X_sev_part, family=sm.families.Gamma(link=sm.families.links.log))\n",
    "glm_sev_part_fitted_reg = glm_sev_part_model.fit_regularized(alpha=0.001)"
   ]
  },
  {
   "cell_type": "code",
   "execution_count": 119,
   "metadata": {
    "hidden": true
   },
   "outputs": [
    {
     "data": {
      "text/plain": [
       "const              -0.746329\n",
       "year_ord            0.000293\n",
       "height             -0.012561\n",
       "sprinklers         -0.547240\n",
       "trade_Office       -0.651790\n",
       "trade_Restaurant   -0.425089\n",
       "trade_Retail       -0.548953\n",
       "dtype: float64"
      ]
     },
     "execution_count": 119,
     "metadata": {},
     "output_type": "execute_result"
    }
   ],
   "source": [
    "glm_sev_part_fitted_reg.params"
   ]
  },
  {
   "cell_type": "code",
   "execution_count": 120,
   "metadata": {
    "hidden": true
   },
   "outputs": [
    {
     "data": {
      "text/plain": [
       "0.05631120950741187"
      ]
     },
     "execution_count": 120,
     "metadata": {},
     "output_type": "execute_result"
    }
   ],
   "source": [
    "mse(Y_sev_part, glm_sev_part_fitted_reg.predict())"
   ]
  },
  {
   "cell_type": "code",
   "execution_count": 121,
   "metadata": {
    "hidden": true
   },
   "outputs": [
    {
     "data": {
      "text/plain": [
       "0.1274332926761977"
      ]
     },
     "execution_count": 121,
     "metadata": {},
     "output_type": "execute_result"
    }
   ],
   "source": [
    "mse(Y_sev_all, glm_sev_part_fitted_reg.predict(X_sev_all))"
   ]
  },
  {
   "cell_type": "markdown",
   "metadata": {
    "hidden": true
   },
   "source": [
    "### GBM model (model_toolbox xgboost)"
   ]
  },
  {
   "cell_type": "code",
   "execution_count": 122,
   "metadata": {
    "code_folding": [],
    "hidden": true
   },
   "outputs": [
    {
     "name": "stdout",
     "output_type": "stream",
     "text": [
      "CPU times: user 19.5 s, sys: 61.7 ms, total: 19.6 s\n",
      "Wall time: 5.05 s\n"
     ]
    }
   ],
   "source": [
    "%%time\n",
    "xgb_sev_model = gbm.LogGBM(objective='reg:gamma', silent=0)\n",
    "xgb_sev_fitted = xgb_sev_model.fit(X_sev_all, Y_sev_all)"
   ]
  },
  {
   "cell_type": "code",
   "execution_count": 139,
   "metadata": {
    "code_folding": [],
    "hidden": true
   },
   "outputs": [
    {
     "name": "stdout",
     "output_type": "stream",
     "text": [
      "CPU times: user 47.7 s, sys: 41.7 ms, total: 47.8 s\n",
      "Wall time: 12.6 s\n"
     ]
    }
   ],
   "source": [
    "%%time\n",
    "xgb_sev_model_cv3 = gbm.LogGBM(objective='reg:gamma', validation_cv_folds=3, silent=0)\n",
    "xgb_sev_fitted_cv3 = xgb_sev_model_cv3.fit(X_sev_all, Y_sev_all)"
   ]
  },
  {
   "cell_type": "code",
   "execution_count": 140,
   "metadata": {
    "hidden": true
   },
   "outputs": [
    {
     "data": {
      "text/plain": [
       "0.10931977730568772"
      ]
     },
     "execution_count": 140,
     "metadata": {},
     "output_type": "execute_result"
    }
   ],
   "source": [
    "mse(Y_sev_all, xgb_sev_fitted.predict(X_sev_all))"
   ]
  },
  {
   "cell_type": "code",
   "execution_count": 141,
   "metadata": {
    "hidden": true
   },
   "outputs": [
    {
     "data": {
      "text/plain": [
       "0.10932603876529241"
      ]
     },
     "execution_count": 141,
     "metadata": {},
     "output_type": "execute_result"
    }
   ],
   "source": [
    "mse(Y_sev_all, xgb_sev_fitted_cv3.predict(X_sev_all))"
   ]
  },
  {
   "cell_type": "code",
   "execution_count": 142,
   "metadata": {
    "hidden": true
   },
   "outputs": [
    {
     "data": {
      "text/plain": [
       "<matplotlib.axes._subplots.AxesSubplot at 0x7f51c72f9ac8>"
      ]
     },
     "execution_count": 142,
     "metadata": {},
     "output_type": "execute_result"
    },
    {
     "data": {
      "image/png": "[encoded data removed]",
      "text/plain": [
       "<matplotlib.figure.Figure at 0x7f51c73a3898>"
      ]
     },
     "metadata": {},
     "output_type": "display_data"
    }
   ],
   "source": [
    "pd.Series(xgb_sev_fitted.predict(X_sev_all)).hist(figsize=(15,5), bins=100)"
   ]
  },
  {
   "cell_type": "code",
   "execution_count": 143,
   "metadata": {
    "hidden": true
   },
   "outputs": [
    {
     "data": {
      "text/plain": [
       "<matplotlib.axes._subplots.AxesSubplot at 0x7f51c71dd8d0>"
      ]
     },
     "execution_count": 143,
     "metadata": {},
     "output_type": "execute_result"
    },
    {
     "data": {
      "image/png": "[encoded data removed]",
      "text/plain": [
       "<matplotlib.figure.Figure at 0x7f51c72b34a8>"
      ]
     },
     "metadata": {},
     "output_type": "display_data"
    }
   ],
   "source": [
    "pd.Series(xgb_sev_fitted_cv3.predict(X_sev_all)).hist(figsize=(15,5), bins=100)"
   ]
  },
  {
   "cell_type": "code",
   "execution_count": 144,
   "metadata": {
    "hidden": true
   },
   "outputs": [
    {
     "data": {
      "text/plain": [
       "<matplotlib.axes._subplots.AxesSubplot at 0x7f51c7135a20>"
      ]
     },
     "execution_count": 144,
     "metadata": {},
     "output_type": "execute_result"
    },
    {
     "data": {
      "image/png": "[encoded data removed]",
      "text/plain": [
       "<matplotlib.figure.Figure at 0x7f51c717cba8>"
      ]
     },
     "metadata": {},
     "output_type": "display_data"
    }
   ],
   "source": [
    "pd.Series(xgb_sev_fitted.predict(X_sev_has_sprinklers)).hist(figsize=(15,5), bins=100)"
   ]
  },
  {
   "cell_type": "code",
   "execution_count": 145,
   "metadata": {
    "hidden": true
   },
   "outputs": [
    {
     "data": {
      "text/plain": [
       "<matplotlib.axes._subplots.AxesSubplot at 0x7f51c746e5c0>"
      ]
     },
     "execution_count": 145,
     "metadata": {},
     "output_type": "execute_result"
    },
    {
     "data": {
      "image/png": "[encoded data removed]",
      "text/plain": [
       "<matplotlib.figure.Figure at 0x7f51c70bbe80>"
      ]
     },
     "metadata": {},
     "output_type": "display_data"
    }
   ],
   "source": [
    "pd.Series(xgb_sev_fitted_cv3.predict(X_sev_has_sprinklers)).hist(figsize=(15,5), bins=100)"
   ]
  },
  {
   "cell_type": "markdown",
   "metadata": {
    "heading_collapsed": true
   },
   "source": [
    "## Make predictions "
   ]
  },
  {
   "cell_type": "code",
   "execution_count": 146,
   "metadata": {
    "hidden": true
   },
   "outputs": [],
   "source": [
    "LM_pred_freq = ols_fitted_reg.predict(X_test)\n",
    "LM_pred_sev = ols_sev_all_fitted_reg.predict(X_test)\n",
    "\n",
    "GLM_pred_freq = glm_fitted_reg.predict(X_test)\n",
    "GLM_pred_sev = glm_sev_all_fitted_reg.predict(X_test)\n",
    "\n",
    "ML_pred_freq = xgb_fitted_cv3.predict(X_test)\n",
    "ML_pred_sev = xgb_sev_fitted_cv3.predict(X_test)"
   ]
  },
  {
   "cell_type": "code",
   "execution_count": 164,
   "metadata": {
    "hidden": true
   },
   "outputs": [],
   "source": [
    "policy_ids = policies_test['pol_id']"
   ]
  },
  {
   "cell_type": "code",
   "execution_count": 173,
   "metadata": {
    "hidden": true
   },
   "outputs": [],
   "source": [
    "LM_predictions = pd.concat([policy_ids, LM_pred_freq, LM_pred_sev], axis=1)\n",
    "LM_predictions.columns = ['pol_id', 'E[N]', 'E[X]']\n",
    "\n",
    "GLM_predictions = pd.concat([policy_ids, GLM_pred_freq, GLM_pred_sev], axis=1)\n",
    "GLM_predictions.columns = ['pol_id', 'E[N]', 'E[X]']\n",
    "\n",
    "ML_predictions = pd.concat([policy_ids, pd.Series(ML_pred_freq), pd.Series(ML_pred_sev)], axis=1)\n",
    "ML_predictions.columns = ['pol_id', 'E[N]', 'E[X]']"
   ]
  },
  {
   "cell_type": "code",
   "execution_count": 171,
   "metadata": {
    "hidden": true
   },
   "outputs": [
    {
     "data": {
      "text/html": [
       "<div>\n",
       "<style scoped>\n",
       "    .dataframe tbody tr th:only-of-type {\n",
       "        vertical-align: middle;\n",
       "    }\n",
       "\n",
       "    .dataframe tbody tr th {\n",
       "        vertical-align: top;\n",
       "    }\n",
       "\n",
       "    .dataframe thead th {\n",
       "        text-align: right;\n",
       "    }\n",
       "</style>\n",
       "<table border=\"1\" class=\"dataframe\">\n",
       "  <thead>\n",
       "    <tr style=\"text-align: right;\">\n",
       "      <th></th>\n",
       "      <th>pol_id</th>\n",
       "      <th>E[N]</th>\n",
       "      <th>E[X]</th>\n",
       "    </tr>\n",
       "  </thead>\n",
       "  <tbody>\n",
       "    <tr>\n",
       "      <th>0</th>\n",
       "      <td>1</td>\n",
       "      <td>0.064043</td>\n",
       "      <td>0.402814</td>\n",
       "    </tr>\n",
       "    <tr>\n",
       "      <th>1</th>\n",
       "      <td>2</td>\n",
       "      <td>0.642291</td>\n",
       "      <td>0.603653</td>\n",
       "    </tr>\n",
       "    <tr>\n",
       "      <th>2</th>\n",
       "      <td>3</td>\n",
       "      <td>0.059101</td>\n",
       "      <td>0.189890</td>\n",
       "    </tr>\n",
       "    <tr>\n",
       "      <th>3</th>\n",
       "      <td>4</td>\n",
       "      <td>0.461615</td>\n",
       "      <td>0.228116</td>\n",
       "    </tr>\n",
       "    <tr>\n",
       "      <th>4</th>\n",
       "      <td>5</td>\n",
       "      <td>0.061152</td>\n",
       "      <td>0.188177</td>\n",
       "    </tr>\n",
       "  </tbody>\n",
       "</table>\n",
       "</div>"
      ],
      "text/plain": [
       "   pol_id      E[N]      E[X]\n",
       "0       1  0.064043  0.402814\n",
       "1       2  0.642291  0.603653\n",
       "2       3  0.059101  0.189890\n",
       "3       4  0.461615  0.228116\n",
       "4       5  0.061152  0.188177"
      ]
     },
     "execution_count": 171,
     "metadata": {},
     "output_type": "execute_result"
    }
   ],
   "source": [
    "LM_predictions.head()"
   ]
  },
  {
   "cell_type": "code",
   "execution_count": 174,
   "metadata": {
    "hidden": true
   },
   "outputs": [
    {
     "data": {
      "text/html": [
       "<div>\n",
       "<style scoped>\n",
       "    .dataframe tbody tr th:only-of-type {\n",
       "        vertical-align: middle;\n",
       "    }\n",
       "\n",
       "    .dataframe tbody tr th {\n",
       "        vertical-align: top;\n",
       "    }\n",
       "\n",
       "    .dataframe thead th {\n",
       "        text-align: right;\n",
       "    }\n",
       "</style>\n",
       "<table border=\"1\" class=\"dataframe\">\n",
       "  <thead>\n",
       "    <tr style=\"text-align: right;\">\n",
       "      <th></th>\n",
       "      <th>pol_id</th>\n",
       "      <th>E[N]</th>\n",
       "      <th>E[X]</th>\n",
       "    </tr>\n",
       "  </thead>\n",
       "  <tbody>\n",
       "    <tr>\n",
       "      <th>0</th>\n",
       "      <td>1</td>\n",
       "      <td>0.061192</td>\n",
       "      <td>0.319675</td>\n",
       "    </tr>\n",
       "    <tr>\n",
       "      <th>1</th>\n",
       "      <td>2</td>\n",
       "      <td>0.649520</td>\n",
       "      <td>0.582755</td>\n",
       "    </tr>\n",
       "    <tr>\n",
       "      <th>2</th>\n",
       "      <td>3</td>\n",
       "      <td>0.060353</td>\n",
       "      <td>0.188734</td>\n",
       "    </tr>\n",
       "    <tr>\n",
       "      <th>3</th>\n",
       "      <td>4</td>\n",
       "      <td>0.463845</td>\n",
       "      <td>0.237759</td>\n",
       "    </tr>\n",
       "    <tr>\n",
       "      <th>4</th>\n",
       "      <td>5</td>\n",
       "      <td>0.061214</td>\n",
       "      <td>0.188278</td>\n",
       "    </tr>\n",
       "  </tbody>\n",
       "</table>\n",
       "</div>"
      ],
      "text/plain": [
       "   pol_id      E[N]      E[X]\n",
       "0       1  0.061192  0.319675\n",
       "1       2  0.649520  0.582755\n",
       "2       3  0.060353  0.188734\n",
       "3       4  0.463845  0.237759\n",
       "4       5  0.061214  0.188278"
      ]
     },
     "execution_count": 174,
     "metadata": {},
     "output_type": "execute_result"
    }
   ],
   "source": [
    "GLM_predictions.head()"
   ]
  },
  {
   "cell_type": "code",
   "execution_count": 179,
   "metadata": {
    "hidden": true
   },
   "outputs": [
    {
     "data": {
      "text/html": [
       "<div>\n",
       "<style scoped>\n",
       "    .dataframe tbody tr th:only-of-type {\n",
       "        vertical-align: middle;\n",
       "    }\n",
       "\n",
       "    .dataframe tbody tr th {\n",
       "        vertical-align: top;\n",
       "    }\n",
       "\n",
       "    .dataframe thead th {\n",
       "        text-align: right;\n",
       "    }\n",
       "</style>\n",
       "<table border=\"1\" class=\"dataframe\">\n",
       "  <thead>\n",
       "    <tr style=\"text-align: right;\">\n",
       "      <th></th>\n",
       "      <th>pol_id</th>\n",
       "      <th>E[N]</th>\n",
       "      <th>E[X]</th>\n",
       "    </tr>\n",
       "  </thead>\n",
       "  <tbody>\n",
       "    <tr>\n",
       "      <th>0</th>\n",
       "      <td>1</td>\n",
       "      <td>0.060031</td>\n",
       "      <td>0.417564</td>\n",
       "    </tr>\n",
       "    <tr>\n",
       "      <th>1</th>\n",
       "      <td>2</td>\n",
       "      <td>0.659810</td>\n",
       "      <td>0.580783</td>\n",
       "    </tr>\n",
       "    <tr>\n",
       "      <th>2</th>\n",
       "      <td>3</td>\n",
       "      <td>0.057421</td>\n",
       "      <td>0.115337</td>\n",
       "    </tr>\n",
       "    <tr>\n",
       "      <th>3</th>\n",
       "      <td>4</td>\n",
       "      <td>0.460182</td>\n",
       "      <td>0.200213</td>\n",
       "    </tr>\n",
       "    <tr>\n",
       "      <th>4</th>\n",
       "      <td>5</td>\n",
       "      <td>0.060659</td>\n",
       "      <td>0.120828</td>\n",
       "    </tr>\n",
       "  </tbody>\n",
       "</table>\n",
       "</div>"
      ],
      "text/plain": [
       "   pol_id      E[N]      E[X]\n",
       "0       1  0.060031  0.417564\n",
       "1       2  0.659810  0.580783\n",
       "2       3  0.057421  0.115337\n",
       "3       4  0.460182  0.200213\n",
       "4       5  0.060659  0.120828"
      ]
     },
     "execution_count": 179,
     "metadata": {},
     "output_type": "execute_result"
    }
   ],
   "source": [
    "ML_predictions.head()"
   ]
  },
  {
   "cell_type": "markdown",
   "metadata": {
    "heading_collapsed": true
   },
   "source": [
    "## Download pickles "
   ]
  },
  {
   "cell_type": "code",
   "execution_count": 181,
   "metadata": {
    "hidden": true
   },
   "outputs": [],
   "source": [
    "LM_predictions.to_pickle(os.path.join(DATA_LOC, 'jack-LM-01Vanilla.pkl'))\n",
    "GLM_predictions.to_pickle(os.path.join(DATA_LOC, 'jack-GLM-01Vanilla.pkl'))\n",
    "ML_predictions.to_pickle(os.path.join(DATA_LOC, 'jack-ML-01Vanilla.pkl'))"
   ]
  }
 ],
 "metadata": {
  "kernelspec": {
   "display_name": "Python 3",
   "language": "python",
   "name": "python3"
  },
  "language_info": {
   "codemirror_mode": {
    "name": "ipython",
    "version": 3
   },
   "file_extension": ".py",
   "mimetype": "text/x-python",
   "name": "python",
   "nbconvert_exporter": "python",
   "pygments_lexer": "ipython3",
   "version": "3.5.2"
  },
  "varInspector": {
   "cols": {
    "lenName": 16,
    "lenType": 16,
    "lenVar": 40
   },
   "kernels_config": {
    "python": {
     "delete_cmd_postfix": "",
     "delete_cmd_prefix": "del ",
     "library": "var_list.py",
     "varRefreshCmd": "print(var_dic_list())"
    },
    "r": {
     "delete_cmd_postfix": ") ",
     "delete_cmd_prefix": "rm(",
     "library": "var_list.r",
     "varRefreshCmd": "cat(var_dic_list()) "
    }
   },
   "oldHeight": 301,
   "position": {
    "height": "323px",
    "left": "1070px",
    "right": "20px",
    "top": "120px",
    "width": "350px"
   },
   "types_to_exclude": [
    "module",
    "function",
    "builtin_function_or_method",
    "instance",
    "_Feature"
   ],
   "varInspector_section_display": "block",
   "window_display": false
  }
 },
 "nbformat": 4,
 "nbformat_minor": 2
}
